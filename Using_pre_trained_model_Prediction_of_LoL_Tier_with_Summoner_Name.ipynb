{
  "nbformat": 4,
  "nbformat_minor": 0,
  "metadata": {
    "colab": {
      "name": "Using_pre_trained_model_Prediction-of-LoL-Tier-with-Summoner-Name.ipynb",
      "provenance": [],
      "collapsed_sections": []
    },
    "kernelspec": {
      "name": "python3",
      "display_name": "Python 3"
    },
    "language_info": {
      "name": "python"
    }
  },
  "cells": [
    {
      "cell_type": "markdown",
      "source": [
        "# 사전학습 모델 사용하여 <br>리그오브레전드 소환사 이름으로 티어 예측하기"
      ],
      "metadata": {
        "id": "RjDwg29ebDi8"
      }
    },
    {
      "cell_type": "markdown",
      "source": [
        "## 필요 라이브러리 설치 및 불러오기"
      ],
      "metadata": {
        "id": "p9rNH9G9bIQT"
      }
    },
    {
      "cell_type": "code",
      "execution_count": 1,
      "metadata": {
        "colab": {
          "base_uri": "https://localhost:8080/"
        },
        "id": "RgiPx_2UbA0u",
        "outputId": "878cf130-13a6-4743-c166-c712f84215ee"
      },
      "outputs": [
        {
          "output_type": "stream",
          "name": "stdout",
          "text": [
            "Looking in indexes: https://pypi.org/simple, https://us-python.pkg.dev/colab-wheels/public/simple/\n",
            "Collecting hgtk\n",
            "  Downloading hgtk-0.1.3.tar.gz (6.2 kB)\n",
            "Building wheels for collected packages: hgtk\n",
            "  Building wheel for hgtk (setup.py) ... \u001b[?25l\u001b[?25hdone\n",
            "  Created wheel for hgtk: filename=hgtk-0.1.3-py2.py3-none-any.whl size=6689 sha256=813fbded7b0a3f3cf82f3b2a618eb771d53636c28441ca79416e323b1310417f\n",
            "  Stored in directory: /root/.cache/pip/wheels/a6/e9/bc/524beb5222b11aa439a23a07be5bd8a559d266153103c37979\n",
            "Successfully built hgtk\n",
            "Installing collected packages: hgtk\n",
            "Successfully installed hgtk-0.1.3\n"
          ]
        }
      ],
      "source": [
        "# 한글 자모 단위 처리 패키지 설치\n",
        "!pip install hgtk"
      ]
    },
    {
      "cell_type": "code",
      "source": [
        "import hgtk\n",
        "import numpy as np\n",
        "import urllib\n",
        "from tensorflow.keras.models import load_model\n",
        "from tensorflow.keras.preprocessing.sequence import pad_sequences"
      ],
      "metadata": {
        "id": "jT0Anqe0bJ-v"
      },
      "execution_count": 18,
      "outputs": []
    },
    {
      "cell_type": "code",
      "source": [
        "def word_to_jamo(token):\n",
        "  def to_special_token(jamo):\n",
        "    if not jamo:\n",
        "      return '-'\n",
        "    else:\n",
        "      return jamo\n",
        "\n",
        "  decomposed_token = ''\n",
        "  for char in token:\n",
        "    try:\n",
        "      # char(음절)을 초성, 중성, 종성으로 분리\n",
        "      cho, jung, jong = hgtk.letter.decompose(char)\n",
        "\n",
        "      # 자모가 빈 문자일 경우 특수문자 -로 대체\n",
        "      cho = to_special_token(cho)\n",
        "      jung = to_special_token(jung)\n",
        "      jong = to_special_token(jong)\n",
        "      decomposed_token = decomposed_token + cho + jung + jong\n",
        "\n",
        "    # 만약 char(음절)이 한글이 아닐 경우 자모를 나누지 않고 추가\n",
        "    except Exception as exception:\n",
        "      if type(exception).__name__ == 'NotHangulException':\n",
        "        decomposed_token += char\n",
        "    \n",
        "  # 단어 토큰의 자모 단위 분리 결과를 추가\n",
        "  return decomposed_token"
      ],
      "metadata": {
        "id": "eBzKqVTmbO0f"
      },
      "execution_count": 3,
      "outputs": []
    },
    {
      "cell_type": "markdown",
      "source": [
        "## 티어 예측"
      ],
      "metadata": {
        "id": "z9CYX_LbcAxx"
      }
    },
    {
      "cell_type": "code",
      "source": [
        "data_word_to_index = {'-': 1, 'ㅇ': 2, 'ㅏ': 3, 'ㄴ': 4, 'ㅣ': 5, 'ㄱ': 6, 'ㄹ': 7, 'ㅁ': 8, 'ㅗ': 9, ' ': 10, 'ㅅ': 11, 'ㅈ': 12, 'ㅓ': 13, 'ㅡ': 14, 'ㅜ': 15, 'ㅂ': 16, 'ㄷ': 17, 'ㅎ': 18, 'ㅐ': 19, 'a': 20, 'ㅕ': 21, 'ㅔ': 22, 'e': 23, 'i': 24, 'o': 25, 'ㅊ': 26, 'n': 27, 'ㅌ': 28, 'l': 29, 'ㅍ': 30, 'ㅋ': 31, 'r': 32, 's': 33, 'u': 34, '1': 35, 't': 36, 'ㅘ': 37, 'ㄲ': 38, 'h': 39, 'd': 40, 'ㅑ': 41, 'ㅛ': 42, 'I': 43, 'ㅠ': 44, 'g': 45, 'm': 46, 'y': 47, 'ㄸ': 48, 'k': 49, 'ㅝ': 50, '2': 51, '0': 52, 'c': 53, 'ㅆ': 54, 'ㅃ': 55, 'ㅉ': 56, 'ㅢ': 57, 'S': 58, 'A': 59, 'p': 60, 'w': 61, 'ㅟ': 62, 'T': 63, 'b': 64, 'O': 65, 'D': 66, 'E': 67, 'N': 68, 'G': 69, 'z': 70, 'f': 71, 'L': 72, 'R': 73, 'K': 74, 'M': 75, 'v': 76, '3': 77, 'ㅚ': 78, 'P': 79, 'C': 80, 'ㅖ': 81, 'x': 82, 'H': 83, '9': 84, 'j': 85, 'B': 86, '7': 87, '4': 88, '5': 89, '8': 90, 'J': 91, 'F': 92, '6': 93, 'Y': 94, 'W': 95, 'U': 96, 'q': 97, 'V': 98, 'X': 99, 'ㅄ': 100, 'Z': 101, 'ㅙ': 102, 'ㄺ': 103, 'ㄶ': 104, 'Q': 105, 'ㅞ': 106, 'ㅀ': 107, 'ㄻ': 108, 'ㅒ': 109, 'ㄼ': 110, 'ㄾ': 111, 'ㄵ': 112, 'ㄳ': 113, 'OOV': 114}"
      ],
      "metadata": {
        "id": "Q-G02W-TbQoE"
      },
      "execution_count": 4,
      "outputs": []
    },
    {
      "cell_type": "markdown",
      "source": [
        "모델 불러오기"
      ],
      "metadata": {
        "id": "A72XYVMqcFrC"
      }
    },
    {
      "cell_type": "code",
      "source": [
        "urllib.request.urlretrieve(\"https://github.com/oneonlee/Prediction-of-LoL-Tier-with-Summoner-Name/blob/main/model/jamo_best_model_biGRU_64.h5?raw=true\", filename=\"jamo_best_model_biGRU_64.h5\")"
      ],
      "metadata": {
        "colab": {
          "base_uri": "https://localhost:8080/"
        },
        "id": "vamWqWmvsC_n",
        "outputId": "604d0963-13bc-4465-ad6e-728bb9311e32"
      },
      "execution_count": 19,
      "outputs": [
        {
          "output_type": "execute_result",
          "data": {
            "text/plain": [
              "('jamo_best_model_biGRU_64.h5', <http.client.HTTPMessage at 0x7f33d507ca90>)"
            ]
          },
          "metadata": {},
          "execution_count": 19
        }
      ]
    },
    {
      "cell_type": "code",
      "source": [
        "model = load_model('jamo_best_model_biGRU_64.h5')"
      ],
      "metadata": {
        "id": "v1i5Tq0mbTd0"
      },
      "execution_count": 20,
      "outputs": []
    },
    {
      "cell_type": "code",
      "source": [
        "def tier_predict(nickname):\n",
        "    jamo_nickname = word_to_jamo(nickname)\n",
        "    encoded_nickname = []\n",
        "    for jamo in jamo_nickname:\n",
        "        try:\n",
        "            # 단어 집합에 있는 단어라면 해당 단어의 정수를 리턴.\n",
        "            encoded_nickname.append(data_word_to_index[jamo])\n",
        "        except KeyError:\n",
        "            # 만약 단어 집합에 없는 단어라면 'OOV'의 정수를 리턴.\n",
        "            encoded_nickname.append(data_word_to_index['OOV'])\n",
        "    padded_nickname = pad_sequences([encoded_nickname], maxlen=16)\n",
        "    \n",
        "    tier_index = np.argmax(model.predict(padded_nickname))\n",
        "    tier_confidence = np.max(model.predict(padded_nickname))\n",
        "    tier_list = ['마스터 이상', '다이아몬드', '플래티넘', '골드', '실버', '브론즈', '아이언']\n",
        "\n",
        "    return tier_list[tier_index], tier_confidence"
      ],
      "metadata": {
        "id": "ugiw5qipbVOv"
      },
      "execution_count": 21,
      "outputs": []
    },
    {
      "cell_type": "code",
      "source": [
        "tier_predict('KT way')"
      ],
      "metadata": {
        "colab": {
          "base_uri": "https://localhost:8080/"
        },
        "id": "WqYKxqoobbZc",
        "outputId": "33033dc9-a478-4f6e-8f80-c9cfe39f586c"
      },
      "execution_count": 22,
      "outputs": [
        {
          "output_type": "execute_result",
          "data": {
            "text/plain": [
              "('마스터 이상', 0.25377932)"
            ]
          },
          "metadata": {},
          "execution_count": 22
        }
      ]
    },
    {
      "cell_type": "code",
      "source": [
        "tier_predict('플래티넘 문지기')"
      ],
      "metadata": {
        "colab": {
          "base_uri": "https://localhost:8080/"
        },
        "id": "jlSuKYEhbjgp",
        "outputId": "7646cbaf-737d-4c34-87ce-aec1456151cf"
      },
      "execution_count": 23,
      "outputs": [
        {
          "output_type": "execute_result",
          "data": {
            "text/plain": [
              "('플래티넘', 0.215069)"
            ]
          },
          "metadata": {},
          "execution_count": 23
        }
      ]
    },
    {
      "cell_type": "code",
      "source": [
        "tier_predict('아몬드가 죽으면')"
      ],
      "metadata": {
        "colab": {
          "base_uri": "https://localhost:8080/"
        },
        "id": "txSVrnELbt16",
        "outputId": "d8968529-63b5-4c56-9a6a-de7d3025892c"
      },
      "execution_count": 24,
      "outputs": [
        {
          "output_type": "execute_result",
          "data": {
            "text/plain": [
              "('다이아몬드', 0.28879693)"
            ]
          },
          "metadata": {},
          "execution_count": 24
        }
      ]
    },
    {
      "cell_type": "code",
      "source": [
        "tier_predict('아이언맨')"
      ],
      "metadata": {
        "colab": {
          "base_uri": "https://localhost:8080/"
        },
        "id": "HFV3xMjMbvjl",
        "outputId": "80783e77-dc30-4be0-bcc2-41964f58d551"
      },
      "execution_count": 25,
      "outputs": [
        {
          "output_type": "execute_result",
          "data": {
            "text/plain": [
              "('아이언', 0.18356499)"
            ]
          },
          "metadata": {},
          "execution_count": 25
        }
      ]
    },
    {
      "cell_type": "code",
      "source": [
        "tier_predict('정보통신기술협회')"
      ],
      "metadata": {
        "colab": {
          "base_uri": "https://localhost:8080/"
        },
        "id": "ZacIQxJUbwUO",
        "outputId": "40fe9f0c-16a3-4397-e43e-64402faccf0f"
      },
      "execution_count": 26,
      "outputs": [
        {
          "output_type": "execute_result",
          "data": {
            "text/plain": [
              "('플래티넘', 0.18466832)"
            ]
          },
          "metadata": {},
          "execution_count": 26
        }
      ]
    },
    {
      "cell_type": "code",
      "source": [
        ""
      ],
      "metadata": {
        "id": "8Y0u7YsAbw7s"
      },
      "execution_count": null,
      "outputs": []
    }
  ]
}