{
  "nbformat": 4,
  "nbformat_minor": 0,
  "metadata": {
    "colab": {
      "name": "Prediction_of_LoL_Tier_with_Summoner_Name.ipynb",
      "provenance": [],
      "collapsed_sections": []
    },
    "kernelspec": {
      "name": "python3",
      "display_name": "Python 3"
    },
    "language_info": {
      "name": "python"
    },
    "accelerator": "GPU",
    "gpuClass": "standard"
  },
  "cells": [
    {
      "cell_type": "markdown",
      "source": [
        "# 리그오브레전드 소환사 이름으로 티어 예측하기"
      ],
      "metadata": {
        "id": "n2PGuEBxN7dQ"
      }
    },
    {
      "cell_type": "markdown",
      "source": [
        "## 필요 라이브러리 설치 및 불러오기"
      ],
      "metadata": {
        "id": "Dqi_GHiNhR2g"
      }
    },
    {
      "cell_type": "markdown",
      "source": [
        "hgtk : https://github.com/bluedisk/hangul-toolkit"
      ],
      "metadata": {
        "id": "lssVi-IhTkgv"
      }
    },
    {
      "cell_type": "code",
      "source": [
        "# 한글 자모 단위 처리 패키지 설치\n",
        "!pip install hgtk"
      ],
      "metadata": {
        "colab": {
          "base_uri": "https://localhost:8080/"
        },
        "id": "_r3o3k16TLlS",
        "outputId": "bc68c5db-226b-40da-c986-36a3f080a5c2"
      },
      "execution_count": 2,
      "outputs": [
        {
          "output_type": "stream",
          "name": "stdout",
          "text": [
            "Looking in indexes: https://pypi.org/simple, https://us-python.pkg.dev/colab-wheels/public/simple/\n",
            "Collecting hgtk\n",
            "  Downloading hgtk-0.1.3.tar.gz (6.2 kB)\n",
            "Building wheels for collected packages: hgtk\n",
            "  Building wheel for hgtk (setup.py) ... \u001b[?25l\u001b[?25hdone\n",
            "  Created wheel for hgtk: filename=hgtk-0.1.3-py2.py3-none-any.whl size=6689 sha256=6426e62b4252f6814c541bcaad98261ff3b9e4353bd6945d1a21dd0ebf2b353e\n",
            "  Stored in directory: /root/.cache/pip/wheels/a6/e9/bc/524beb5222b11aa439a23a07be5bd8a559d266153103c37979\n",
            "Successfully built hgtk\n",
            "Installing collected packages: hgtk\n",
            "Successfully installed hgtk-0.1.3\n"
          ]
        }
      ]
    },
    {
      "cell_type": "code",
      "source": [
        "import pandas as pd\n",
        "import matplotlib.pyplot as plt\n",
        "import seaborn as sns\n",
        "import numpy as np\n",
        "from tqdm import tqdm\n",
        "import random\n",
        "import hgtk\n",
        "import urllib"
      ],
      "metadata": {
        "id": "NOgl5kKiN1Zw"
      },
      "execution_count": 3,
      "outputs": []
    },
    {
      "cell_type": "markdown",
      "source": [
        "## 데이터 내려받기 및 티어 나누기"
      ],
      "metadata": {
        "id": "V8EuUpLJhXpA"
      }
    },
    {
      "cell_type": "code",
      "source": [
        "urllib.request.urlretrieve(\"https://media.githubusercontent.com/media/oneonlee/Prediction-of-LoL-Tier-with-Summoner-Name/main/data/lol_raw_data.csv\", filename=\"lol_raw_data.csv\")"
      ],
      "metadata": {
        "colab": {
          "base_uri": "https://localhost:8080/"
        },
        "id": "f-XJnSK3plYc",
        "outputId": "62a2cb07-92f3-4785-8ee0-5059de09ce36"
      },
      "execution_count": 8,
      "outputs": [
        {
          "output_type": "execute_result",
          "data": {
            "text/plain": [
              "('lol_raw_data.csv', <http.client.HTTPMessage at 0x7f3aa146a7d0>)"
            ]
          },
          "metadata": {},
          "execution_count": 8
        }
      ]
    },
    {
      "cell_type": "code",
      "source": [
        "lol_raw_data = pd.read_csv(\"lol_raw_data.csv\")"
      ],
      "metadata": {
        "id": "l5Bbki8QSMtL"
      },
      "execution_count": 9,
      "outputs": []
    },
    {
      "cell_type": "code",
      "source": [
        "lol_raw_data"
      ],
      "metadata": {
        "colab": {
          "base_uri": "https://localhost:8080/",
          "height": 424
        },
        "id": "Mk7JfNSfqYDY",
        "outputId": "236a45b2-aaab-4602-b456-23caea7c7e0e"
      },
      "execution_count": 10,
      "outputs": [
        {
          "output_type": "execute_result",
          "data": {
            "text/plain": [
              "         ranking        nickname        tier\n",
              "0              1         JUGKlNG  challenger\n",
              "1              2          viper3  challenger\n",
              "2              3          KT Way  challenger\n",
              "3              4   SMB heixiaohu  challenger\n",
              "4              5            냥똥벌레  challenger\n",
              "...          ...             ...         ...\n",
              "3718152  3899896       qwer1234q        iron\n",
              "3718153  3899897           오마이나니        iron\n",
              "3718154  3899898          마카롱래샤샤        iron\n",
              "3718155  3899899     juste cause        iron\n",
              "3718156  3899900  GuLiSaoNanAGou        iron\n",
              "\n",
              "[3718157 rows x 3 columns]"
            ],
            "text/html": [
              "\n",
              "  <div id=\"df-94e8a02e-bc31-4ae5-b089-758a3aae2aa4\">\n",
              "    <div class=\"colab-df-container\">\n",
              "      <div>\n",
              "<style scoped>\n",
              "    .dataframe tbody tr th:only-of-type {\n",
              "        vertical-align: middle;\n",
              "    }\n",
              "\n",
              "    .dataframe tbody tr th {\n",
              "        vertical-align: top;\n",
              "    }\n",
              "\n",
              "    .dataframe thead th {\n",
              "        text-align: right;\n",
              "    }\n",
              "</style>\n",
              "<table border=\"1\" class=\"dataframe\">\n",
              "  <thead>\n",
              "    <tr style=\"text-align: right;\">\n",
              "      <th></th>\n",
              "      <th>ranking</th>\n",
              "      <th>nickname</th>\n",
              "      <th>tier</th>\n",
              "    </tr>\n",
              "  </thead>\n",
              "  <tbody>\n",
              "    <tr>\n",
              "      <th>0</th>\n",
              "      <td>1</td>\n",
              "      <td>JUGKlNG</td>\n",
              "      <td>challenger</td>\n",
              "    </tr>\n",
              "    <tr>\n",
              "      <th>1</th>\n",
              "      <td>2</td>\n",
              "      <td>viper3</td>\n",
              "      <td>challenger</td>\n",
              "    </tr>\n",
              "    <tr>\n",
              "      <th>2</th>\n",
              "      <td>3</td>\n",
              "      <td>KT Way</td>\n",
              "      <td>challenger</td>\n",
              "    </tr>\n",
              "    <tr>\n",
              "      <th>3</th>\n",
              "      <td>4</td>\n",
              "      <td>SMB heixiaohu</td>\n",
              "      <td>challenger</td>\n",
              "    </tr>\n",
              "    <tr>\n",
              "      <th>4</th>\n",
              "      <td>5</td>\n",
              "      <td>냥똥벌레</td>\n",
              "      <td>challenger</td>\n",
              "    </tr>\n",
              "    <tr>\n",
              "      <th>...</th>\n",
              "      <td>...</td>\n",
              "      <td>...</td>\n",
              "      <td>...</td>\n",
              "    </tr>\n",
              "    <tr>\n",
              "      <th>3718152</th>\n",
              "      <td>3899896</td>\n",
              "      <td>qwer1234q</td>\n",
              "      <td>iron</td>\n",
              "    </tr>\n",
              "    <tr>\n",
              "      <th>3718153</th>\n",
              "      <td>3899897</td>\n",
              "      <td>오마이나니</td>\n",
              "      <td>iron</td>\n",
              "    </tr>\n",
              "    <tr>\n",
              "      <th>3718154</th>\n",
              "      <td>3899898</td>\n",
              "      <td>마카롱래샤샤</td>\n",
              "      <td>iron</td>\n",
              "    </tr>\n",
              "    <tr>\n",
              "      <th>3718155</th>\n",
              "      <td>3899899</td>\n",
              "      <td>juste cause</td>\n",
              "      <td>iron</td>\n",
              "    </tr>\n",
              "    <tr>\n",
              "      <th>3718156</th>\n",
              "      <td>3899900</td>\n",
              "      <td>GuLiSaoNanAGou</td>\n",
              "      <td>iron</td>\n",
              "    </tr>\n",
              "  </tbody>\n",
              "</table>\n",
              "<p>3718157 rows × 3 columns</p>\n",
              "</div>\n",
              "      <button class=\"colab-df-convert\" onclick=\"convertToInteractive('df-94e8a02e-bc31-4ae5-b089-758a3aae2aa4')\"\n",
              "              title=\"Convert this dataframe to an interactive table.\"\n",
              "              style=\"display:none;\">\n",
              "        \n",
              "  <svg xmlns=\"http://www.w3.org/2000/svg\" height=\"24px\"viewBox=\"0 0 24 24\"\n",
              "       width=\"24px\">\n",
              "    <path d=\"M0 0h24v24H0V0z\" fill=\"none\"/>\n",
              "    <path d=\"M18.56 5.44l.94 2.06.94-2.06 2.06-.94-2.06-.94-.94-2.06-.94 2.06-2.06.94zm-11 1L8.5 8.5l.94-2.06 2.06-.94-2.06-.94L8.5 2.5l-.94 2.06-2.06.94zm10 10l.94 2.06.94-2.06 2.06-.94-2.06-.94-.94-2.06-.94 2.06-2.06.94z\"/><path d=\"M17.41 7.96l-1.37-1.37c-.4-.4-.92-.59-1.43-.59-.52 0-1.04.2-1.43.59L10.3 9.45l-7.72 7.72c-.78.78-.78 2.05 0 2.83L4 21.41c.39.39.9.59 1.41.59.51 0 1.02-.2 1.41-.59l7.78-7.78 2.81-2.81c.8-.78.8-2.07 0-2.86zM5.41 20L4 18.59l7.72-7.72 1.47 1.35L5.41 20z\"/>\n",
              "  </svg>\n",
              "      </button>\n",
              "      \n",
              "  <style>\n",
              "    .colab-df-container {\n",
              "      display:flex;\n",
              "      flex-wrap:wrap;\n",
              "      gap: 12px;\n",
              "    }\n",
              "\n",
              "    .colab-df-convert {\n",
              "      background-color: #E8F0FE;\n",
              "      border: none;\n",
              "      border-radius: 50%;\n",
              "      cursor: pointer;\n",
              "      display: none;\n",
              "      fill: #1967D2;\n",
              "      height: 32px;\n",
              "      padding: 0 0 0 0;\n",
              "      width: 32px;\n",
              "    }\n",
              "\n",
              "    .colab-df-convert:hover {\n",
              "      background-color: #E2EBFA;\n",
              "      box-shadow: 0px 1px 2px rgba(60, 64, 67, 0.3), 0px 1px 3px 1px rgba(60, 64, 67, 0.15);\n",
              "      fill: #174EA6;\n",
              "    }\n",
              "\n",
              "    [theme=dark] .colab-df-convert {\n",
              "      background-color: #3B4455;\n",
              "      fill: #D2E3FC;\n",
              "    }\n",
              "\n",
              "    [theme=dark] .colab-df-convert:hover {\n",
              "      background-color: #434B5C;\n",
              "      box-shadow: 0px 1px 3px 1px rgba(0, 0, 0, 0.15);\n",
              "      filter: drop-shadow(0px 1px 2px rgba(0, 0, 0, 0.3));\n",
              "      fill: #FFFFFF;\n",
              "    }\n",
              "  </style>\n",
              "\n",
              "      <script>\n",
              "        const buttonEl =\n",
              "          document.querySelector('#df-94e8a02e-bc31-4ae5-b089-758a3aae2aa4 button.colab-df-convert');\n",
              "        buttonEl.style.display =\n",
              "          google.colab.kernel.accessAllowed ? 'block' : 'none';\n",
              "\n",
              "        async function convertToInteractive(key) {\n",
              "          const element = document.querySelector('#df-94e8a02e-bc31-4ae5-b089-758a3aae2aa4');\n",
              "          const dataTable =\n",
              "            await google.colab.kernel.invokeFunction('convertToInteractive',\n",
              "                                                     [key], {});\n",
              "          if (!dataTable) return;\n",
              "\n",
              "          const docLinkHtml = 'Like what you see? Visit the ' +\n",
              "            '<a target=\"_blank\" href=https://colab.research.google.com/notebooks/data_table.ipynb>data table notebook</a>'\n",
              "            + ' to learn more about interactive tables.';\n",
              "          element.innerHTML = '';\n",
              "          dataTable['output_type'] = 'display_data';\n",
              "          await google.colab.output.renderOutput(dataTable, element);\n",
              "          const docLink = document.createElement('div');\n",
              "          docLink.innerHTML = docLinkHtml;\n",
              "          element.appendChild(docLink);\n",
              "        }\n",
              "      </script>\n",
              "    </div>\n",
              "  </div>\n",
              "  "
            ]
          },
          "metadata": {},
          "execution_count": 10
        }
      ]
    },
    {
      "cell_type": "markdown",
      "source": [
        "## EDA (Exploratory Data Analysis, 탐색적 데이터 분석) "
      ],
      "metadata": {
        "id": "aEcq1-OeO3pb"
      }
    },
    {
      "cell_type": "markdown",
      "source": [
        "`lol_raw_data`의 결측치 확인"
      ],
      "metadata": {
        "id": "-OMoRrlDODSX"
      }
    },
    {
      "cell_type": "code",
      "source": [
        "lol_raw_data.isnull().sum()"
      ],
      "metadata": {
        "colab": {
          "base_uri": "https://localhost:8080/"
        },
        "id": "FuSRA1qlNDES",
        "outputId": "ec3c759d-f947-423e-e8b5-e6dcbeb3344a"
      },
      "execution_count": null,
      "outputs": [
        {
          "output_type": "execute_result",
          "data": {
            "text/plain": [
              "ranking           0\n",
              "nickname          0\n",
              "tier              0\n",
              "most_champion1    0\n",
              "most_champion2    0\n",
              "most_champion3    0\n",
              "level             0\n",
              "dtype: int64"
            ]
          },
          "metadata": {},
          "execution_count": 4
        }
      ]
    },
    {
      "cell_type": "code",
      "source": [
        "lol_raw_data.info()"
      ],
      "metadata": {
        "colab": {
          "base_uri": "https://localhost:8080/"
        },
        "id": "FXAHQPV2POP4",
        "outputId": "e10155be-d426-492c-df41-f86538068429"
      },
      "execution_count": null,
      "outputs": [
        {
          "output_type": "stream",
          "name": "stdout",
          "text": [
            "<class 'pandas.core.frame.DataFrame'>\n",
            "RangeIndex: 3718157 entries, 0 to 3718156\n",
            "Data columns (total 7 columns):\n",
            " #   Column          Dtype \n",
            "---  ------          ----- \n",
            " 0   ranking         int64 \n",
            " 1   nickname        object\n",
            " 2   tier            object\n",
            " 3   most_champion1  object\n",
            " 4   most_champion2  object\n",
            " 5   most_champion3  object\n",
            " 6   level           int64 \n",
            "dtypes: int64(2), object(5)\n",
            "memory usage: 198.6+ MB\n"
          ]
        }
      ]
    },
    {
      "cell_type": "code",
      "source": [
        "print('소환사 이름의 최대 길이 :{}'.format(max(len(sample) for sample in lol_raw_data['nickname'])))\n",
        "print('소환사 이름의 평균 길이 :{}'.format(sum(map(len, lol_raw_data['nickname']))/len(lol_raw_data['nickname'])))\n",
        "print()\n",
        "\n",
        "plt.figure(dpi=150)\n",
        "plt.hist([len(sample) for sample in lol_raw_data['nickname']], bins=50)\n",
        "plt.xlabel('length of nicknames')\n",
        "plt.ylabel('frequencies')\n",
        "plt.show()"
      ],
      "metadata": {
        "colab": {
          "base_uri": "https://localhost:8080/",
          "height": 622
        },
        "id": "Id260_8UP0zx",
        "outputId": "1771b517-cc04-43c9-ec28-c9129a870ddf"
      },
      "execution_count": null,
      "outputs": [
        {
          "output_type": "stream",
          "name": "stdout",
          "text": [
            "소환사 이름의 최대 길이 :16\n",
            "소환사 이름의 평균 길이 :6.427814909375801\n",
            "\n"
          ]
        },
        {
          "output_type": "display_data",
          "data": {
            "text/plain": [
              "<Figure size 900x600 with 1 Axes>"
            ],
            "image/png": "[encoded data removed]"
          },
          "metadata": {
            "needs_background": "light"
          }
        }
      ]
    },
    {
      "cell_type": "code",
      "source": [
        "sns.set(font_scale = 1.5)\n",
        "fig, axe = plt.subplots(ncols=1)\n",
        "fig.set_size_inches(16,8)\n",
        "sns.countplot(x = lol_raw_data['tier'])"
      ],
      "metadata": {
        "colab": {
          "base_uri": "https://localhost:8080/",
          "height": 550
        },
        "id": "7fGR7KUISIHP",
        "outputId": "85286493-499a-4a29-f16b-7031065564f9"
      },
      "execution_count": null,
      "outputs": [
        {
          "output_type": "execute_result",
          "data": {
            "text/plain": [
              "<matplotlib.axes._subplots.AxesSubplot at 0x7f121af0e050>"
            ]
          },
          "metadata": {},
          "execution_count": 7
        },
        {
          "output_type": "display_data",
          "data": {
            "text/plain": [
              "<Figure size 1152x576 with 1 Axes>"
            ],
            "image/png": "[encoded data removed]"
          },
          "metadata": {}
        }
      ]
    },
    {
      "cell_type": "code",
      "source": [
        "unique_elements, counts_elements = np.unique(lol_raw_data['tier'], return_counts=True)\n",
        "\n",
        "for i in range(len(unique_elements)):\n",
        "  print(f\"{unique_elements[i]} tier : {counts_elements[i]}\")"
      ],
      "metadata": {
        "colab": {
          "base_uri": "https://localhost:8080/"
        },
        "id": "xkxFvaywSkQF",
        "outputId": "e824b5c1-56c1-4ab0-c6f0-22f46f772d64"
      },
      "execution_count": null,
      "outputs": [
        {
          "output_type": "stream",
          "name": "stdout",
          "text": [
            "bronze tier : 854653\n",
            "challenger tier : 296\n",
            "diamond tier : 57195\n",
            "gold tier : 1020424\n",
            "grandmaster tier : 681\n",
            "iron tier : 104320\n",
            "master tier : 3806\n",
            "platinum tier : 404496\n",
            "silver tier : 1272286\n"
          ]
        }
      ]
    },
    {
      "cell_type": "markdown",
      "source": [
        "'master' 이상의 티어는 하나로 묶어서 다시 살펴보기"
      ],
      "metadata": {
        "id": "TMC9kyBiV-Pl"
      }
    },
    {
      "cell_type": "code",
      "source": [
        "lol_edited_data = lol_raw_data.replace({'tier' : 'challenger'}, 'above_master')\n",
        "lol_edited_data = lol_edited_data.replace({'tier' : 'grandmaster'}, 'above_master') \n",
        "lol_edited_data = lol_edited_data.replace({'tier' : 'master'}, 'above_master') "
      ],
      "metadata": {
        "id": "iL1Kq_M9V8FL"
      },
      "execution_count": null,
      "outputs": []
    },
    {
      "cell_type": "code",
      "source": [
        "sns.set(font_scale = 1.5)\n",
        "fig, axe = plt.subplots(ncols=1)\n",
        "fig.set_size_inches(16,8)\n",
        "sns.countplot(x = lol_edited_data['tier'])"
      ],
      "metadata": {
        "colab": {
          "base_uri": "https://localhost:8080/",
          "height": 551
        },
        "id": "p7pcW1nSXZeT",
        "outputId": "4747ab09-8859-4210-a9e6-4bad24bbdafb"
      },
      "execution_count": null,
      "outputs": [
        {
          "output_type": "execute_result",
          "data": {
            "text/plain": [
              "<matplotlib.axes._subplots.AxesSubplot at 0x7f121a9dc150>"
            ]
          },
          "metadata": {},
          "execution_count": 10
        },
        {
          "output_type": "display_data",
          "data": {
            "text/plain": [
              "<Figure size 1152x576 with 1 Axes>"
            ],
            "image/png": "[encoded data removed]"
          },
          "metadata": {}
        }
      ]
    },
    {
      "cell_type": "code",
      "source": [
        "edited_tier_list, counts_elements = np.unique(lol_edited_data['tier'], return_counts=True)\n",
        "\n",
        "for i in range(len(edited_tier_list)):\n",
        "  print(f\"{edited_tier_list[i]} tier : {counts_elements[i]}\")"
      ],
      "metadata": {
        "colab": {
          "base_uri": "https://localhost:8080/"
        },
        "id": "oIVZmyfHXe0h",
        "outputId": "de553856-8d07-4d34-db0b-b3c99f1e3946"
      },
      "execution_count": null,
      "outputs": [
        {
          "output_type": "stream",
          "name": "stdout",
          "text": [
            "above_master tier : 4783\n",
            "bronze tier : 854653\n",
            "diamond tier : 57195\n",
            "gold tier : 1020424\n",
            "iron tier : 104320\n",
            "platinum tier : 404496\n",
            "silver tier : 1272286\n"
          ]
        }
      ]
    },
    {
      "cell_type": "markdown",
      "source": [
        "## Over Sampling 수행"
      ],
      "metadata": {
        "id": "ODVjifDxi6Dt"
      }
    },
    {
      "cell_type": "code",
      "source": [
        "minimum = min(counts_elements)\n",
        "min_idx = np.where(counts_elements==minimum)\n",
        "least_tier = edited_tier_list[min_idx][0]"
      ],
      "metadata": {
        "id": "gKXZIGkWi42M"
      },
      "execution_count": null,
      "outputs": []
    },
    {
      "cell_type": "code",
      "source": [
        "over_sampled_data = lol_edited_data[lol_edited_data['tier'] == least_tier]"
      ],
      "metadata": {
        "id": "kiT_uNBtlKvc"
      },
      "execution_count": null,
      "outputs": []
    },
    {
      "cell_type": "code",
      "source": [
        "over_sampled_data1 = over_sampled_data.copy()\n",
        "for i in range(len(over_sampled_data1)):\n",
        "    over_sampled_data1['nickname'][i] = over_sampled_data1['nickname'][i][1:]"
      ],
      "metadata": {
        "colab": {
          "base_uri": "https://localhost:8080/"
        },
        "id": "ozuFWMzxlM0J",
        "outputId": "8947ca0c-1c88-43f7-e00e-3bd20c0aed25"
      },
      "execution_count": null,
      "outputs": [
        {
          "output_type": "stream",
          "name": "stderr",
          "text": [
            "/usr/local/lib/python3.7/dist-packages/ipykernel_launcher.py:3: SettingWithCopyWarning: \n",
            "A value is trying to be set on a copy of a slice from a DataFrame\n",
            "\n",
            "See the caveats in the documentation: https://pandas.pydata.org/pandas-docs/stable/user_guide/indexing.html#returning-a-view-versus-a-copy\n",
            "  This is separate from the ipykernel package so we can avoid doing imports until\n"
          ]
        }
      ]
    },
    {
      "cell_type": "code",
      "source": [
        "over_sampled_data2 = over_sampled_data.copy()\n",
        "for i in range(len(over_sampled_data2)):\n",
        "    over_sampled_data2['nickname'][i] = over_sampled_data2['nickname'][i][:-1]"
      ],
      "metadata": {
        "colab": {
          "base_uri": "https://localhost:8080/"
        },
        "id": "OUNONrjkljwD",
        "outputId": "84292f72-0a28-4122-e646-9efb349e9ddd"
      },
      "execution_count": null,
      "outputs": [
        {
          "output_type": "stream",
          "name": "stderr",
          "text": [
            "/usr/local/lib/python3.7/dist-packages/ipykernel_launcher.py:3: SettingWithCopyWarning: \n",
            "A value is trying to be set on a copy of a slice from a DataFrame\n",
            "\n",
            "See the caveats in the documentation: https://pandas.pydata.org/pandas-docs/stable/user_guide/indexing.html#returning-a-view-versus-a-copy\n",
            "  This is separate from the ipykernel package so we can avoid doing imports until\n"
          ]
        }
      ]
    },
    {
      "cell_type": "code",
      "source": [
        "over_sampled_data = pd.concat([over_sampled_data, over_sampled_data1])\n",
        "over_sampled_data = pd.concat([over_sampled_data, over_sampled_data2])"
      ],
      "metadata": {
        "id": "LPel3G_Plv-f"
      },
      "execution_count": null,
      "outputs": []
    },
    {
      "cell_type": "code",
      "source": [
        "edited_tier_list"
      ],
      "metadata": {
        "colab": {
          "base_uri": "https://localhost:8080/"
        },
        "id": "f53n09dzmOaA",
        "outputId": "ee5fb578-f076-453e-9956-bba959b67735"
      },
      "execution_count": null,
      "outputs": [
        {
          "output_type": "execute_result",
          "data": {
            "text/plain": [
              "array(['above_master', 'bronze', 'diamond', 'gold', 'iron', 'platinum',\n",
              "       'silver'], dtype=object)"
            ]
          },
          "metadata": {},
          "execution_count": 30
        }
      ]
    },
    {
      "cell_type": "code",
      "source": [
        "maximum = len(over_sampled_data)\n",
        "edited_tier_list = np.delete(edited_tier_list, min_idx)\n",
        "\n",
        "for tier in edited_tier_list:\n",
        "  over_sampled_data = pd.concat([over_sampled_data, lol_edited_data[lol_edited_data['tier'] == tier].sample(maximum)])"
      ],
      "metadata": {
        "id": "kF0ZEO3tj6Rk"
      },
      "execution_count": null,
      "outputs": []
    },
    {
      "cell_type": "code",
      "source": [
        "over_sampled_data"
      ],
      "metadata": {
        "colab": {
          "base_uri": "https://localhost:8080/",
          "height": 424
        },
        "id": "igy4XSmxmg-u",
        "outputId": "a6bd146e-e1c5-4b20-ab2f-205bf4fdcc87"
      },
      "execution_count": null,
      "outputs": [
        {
          "output_type": "execute_result",
          "data": {
            "text/plain": [
              "         ranking       nickname          tier most_champion1 most_champion2  \\\n",
              "0              1        JUGKlNG  above_master            니달리            아크샨   \n",
              "1              2         viper3  above_master           이즈리얼          아펠리오스   \n",
              "2              3         KT Way  above_master           노틸러스       레나타 글라스크   \n",
              "3              4  SMB heixiaohu  above_master            비에고            리 신   \n",
              "4              5           냥똥벌레  above_master            라이즈             요네   \n",
              "...          ...            ...           ...            ...            ...   \n",
              "2118787  2205560         이달의 원딜        silver             잭스             니코   \n",
              "1809630  1882194         전판에똥싼놈        silver           아트록스            우르곳   \n",
              "2482043  2590755        섹시한 닭다리        silver            카르마             뽀삐   \n",
              "1688743  1755781         짐승같은새끼        silver             벡스             럭스   \n",
              "1829477  1902954        비수가 꽂힌다        silver            사미라            트위치   \n",
              "\n",
              "        most_champion3  level  \n",
              "0                  리 신    372  \n",
              "1                 칼리스타    499  \n",
              "2                   라칸    473  \n",
              "3                그레이브즈    106  \n",
              "4                  빅토르    453  \n",
              "...                ...    ...  \n",
              "2118787            사미라    371  \n",
              "1809630          하이머딩거    214  \n",
              "2482043             에코    116  \n",
              "1688743           애니비아    141  \n",
              "1829477              진    320  \n",
              "\n",
              "[100443 rows x 7 columns]"
            ],
            "text/html": [
              "\n",
              "  <div id=\"df-823c4737-a696-4ea3-a84f-68639d258649\">\n",
              "    <div class=\"colab-df-container\">\n",
              "      <div>\n",
              "<style scoped>\n",
              "    .dataframe tbody tr th:only-of-type {\n",
              "        vertical-align: middle;\n",
              "    }\n",
              "\n",
              "    .dataframe tbody tr th {\n",
              "        vertical-align: top;\n",
              "    }\n",
              "\n",
              "    .dataframe thead th {\n",
              "        text-align: right;\n",
              "    }\n",
              "</style>\n",
              "<table border=\"1\" class=\"dataframe\">\n",
              "  <thead>\n",
              "    <tr style=\"text-align: right;\">\n",
              "      <th></th>\n",
              "      <th>ranking</th>\n",
              "      <th>nickname</th>\n",
              "      <th>tier</th>\n",
              "      <th>most_champion1</th>\n",
              "      <th>most_champion2</th>\n",
              "      <th>most_champion3</th>\n",
              "      <th>level</th>\n",
              "    </tr>\n",
              "  </thead>\n",
              "  <tbody>\n",
              "    <tr>\n",
              "      <th>0</th>\n",
              "      <td>1</td>\n",
              "      <td>JUGKlNG</td>\n",
              "      <td>above_master</td>\n",
              "      <td>니달리</td>\n",
              "      <td>아크샨</td>\n",
              "      <td>리 신</td>\n",
              "      <td>372</td>\n",
              "    </tr>\n",
              "    <tr>\n",
              "      <th>1</th>\n",
              "      <td>2</td>\n",
              "      <td>viper3</td>\n",
              "      <td>above_master</td>\n",
              "      <td>이즈리얼</td>\n",
              "      <td>아펠리오스</td>\n",
              "      <td>칼리스타</td>\n",
              "      <td>499</td>\n",
              "    </tr>\n",
              "    <tr>\n",
              "      <th>2</th>\n",
              "      <td>3</td>\n",
              "      <td>KT Way</td>\n",
              "      <td>above_master</td>\n",
              "      <td>노틸러스</td>\n",
              "      <td>레나타 글라스크</td>\n",
              "      <td>라칸</td>\n",
              "      <td>473</td>\n",
              "    </tr>\n",
              "    <tr>\n",
              "      <th>3</th>\n",
              "      <td>4</td>\n",
              "      <td>SMB heixiaohu</td>\n",
              "      <td>above_master</td>\n",
              "      <td>비에고</td>\n",
              "      <td>리 신</td>\n",
              "      <td>그레이브즈</td>\n",
              "      <td>106</td>\n",
              "    </tr>\n",
              "    <tr>\n",
              "      <th>4</th>\n",
              "      <td>5</td>\n",
              "      <td>냥똥벌레</td>\n",
              "      <td>above_master</td>\n",
              "      <td>라이즈</td>\n",
              "      <td>요네</td>\n",
              "      <td>빅토르</td>\n",
              "      <td>453</td>\n",
              "    </tr>\n",
              "    <tr>\n",
              "      <th>...</th>\n",
              "      <td>...</td>\n",
              "      <td>...</td>\n",
              "      <td>...</td>\n",
              "      <td>...</td>\n",
              "      <td>...</td>\n",
              "      <td>...</td>\n",
              "      <td>...</td>\n",
              "    </tr>\n",
              "    <tr>\n",
              "      <th>2118787</th>\n",
              "      <td>2205560</td>\n",
              "      <td>이달의 원딜</td>\n",
              "      <td>silver</td>\n",
              "      <td>잭스</td>\n",
              "      <td>니코</td>\n",
              "      <td>사미라</td>\n",
              "      <td>371</td>\n",
              "    </tr>\n",
              "    <tr>\n",
              "      <th>1809630</th>\n",
              "      <td>1882194</td>\n",
              "      <td>전판에똥싼놈</td>\n",
              "      <td>silver</td>\n",
              "      <td>아트록스</td>\n",
              "      <td>우르곳</td>\n",
              "      <td>하이머딩거</td>\n",
              "      <td>214</td>\n",
              "    </tr>\n",
              "    <tr>\n",
              "      <th>2482043</th>\n",
              "      <td>2590755</td>\n",
              "      <td>섹시한 닭다리</td>\n",
              "      <td>silver</td>\n",
              "      <td>카르마</td>\n",
              "      <td>뽀삐</td>\n",
              "      <td>에코</td>\n",
              "      <td>116</td>\n",
              "    </tr>\n",
              "    <tr>\n",
              "      <th>1688743</th>\n",
              "      <td>1755781</td>\n",
              "      <td>짐승같은새끼</td>\n",
              "      <td>silver</td>\n",
              "      <td>벡스</td>\n",
              "      <td>럭스</td>\n",
              "      <td>애니비아</td>\n",
              "      <td>141</td>\n",
              "    </tr>\n",
              "    <tr>\n",
              "      <th>1829477</th>\n",
              "      <td>1902954</td>\n",
              "      <td>비수가 꽂힌다</td>\n",
              "      <td>silver</td>\n",
              "      <td>사미라</td>\n",
              "      <td>트위치</td>\n",
              "      <td>진</td>\n",
              "      <td>320</td>\n",
              "    </tr>\n",
              "  </tbody>\n",
              "</table>\n",
              "<p>100443 rows × 7 columns</p>\n",
              "</div>\n",
              "      <button class=\"colab-df-convert\" onclick=\"convertToInteractive('df-823c4737-a696-4ea3-a84f-68639d258649')\"\n",
              "              title=\"Convert this dataframe to an interactive table.\"\n",
              "              style=\"display:none;\">\n",
              "        \n",
              "  <svg xmlns=\"http://www.w3.org/2000/svg\" height=\"24px\"viewBox=\"0 0 24 24\"\n",
              "       width=\"24px\">\n",
              "    <path d=\"M0 0h24v24H0V0z\" fill=\"none\"/>\n",
              "    <path d=\"M18.56 5.44l.94 2.06.94-2.06 2.06-.94-2.06-.94-.94-2.06-.94 2.06-2.06.94zm-11 1L8.5 8.5l.94-2.06 2.06-.94-2.06-.94L8.5 2.5l-.94 2.06-2.06.94zm10 10l.94 2.06.94-2.06 2.06-.94-2.06-.94-.94-2.06-.94 2.06-2.06.94z\"/><path d=\"M17.41 7.96l-1.37-1.37c-.4-.4-.92-.59-1.43-.59-.52 0-1.04.2-1.43.59L10.3 9.45l-7.72 7.72c-.78.78-.78 2.05 0 2.83L4 21.41c.39.39.9.59 1.41.59.51 0 1.02-.2 1.41-.59l7.78-7.78 2.81-2.81c.8-.78.8-2.07 0-2.86zM5.41 20L4 18.59l7.72-7.72 1.47 1.35L5.41 20z\"/>\n",
              "  </svg>\n",
              "      </button>\n",
              "      \n",
              "  <style>\n",
              "    .colab-df-container {\n",
              "      display:flex;\n",
              "      flex-wrap:wrap;\n",
              "      gap: 12px;\n",
              "    }\n",
              "\n",
              "    .colab-df-convert {\n",
              "      background-color: #E8F0FE;\n",
              "      border: none;\n",
              "      border-radius: 50%;\n",
              "      cursor: pointer;\n",
              "      display: none;\n",
              "      fill: #1967D2;\n",
              "      height: 32px;\n",
              "      padding: 0 0 0 0;\n",
              "      width: 32px;\n",
              "    }\n",
              "\n",
              "    .colab-df-convert:hover {\n",
              "      background-color: #E2EBFA;\n",
              "      box-shadow: 0px 1px 2px rgba(60, 64, 67, 0.3), 0px 1px 3px 1px rgba(60, 64, 67, 0.15);\n",
              "      fill: #174EA6;\n",
              "    }\n",
              "\n",
              "    [theme=dark] .colab-df-convert {\n",
              "      background-color: #3B4455;\n",
              "      fill: #D2E3FC;\n",
              "    }\n",
              "\n",
              "    [theme=dark] .colab-df-convert:hover {\n",
              "      background-color: #434B5C;\n",
              "      box-shadow: 0px 1px 3px 1px rgba(0, 0, 0, 0.15);\n",
              "      filter: drop-shadow(0px 1px 2px rgba(0, 0, 0, 0.3));\n",
              "      fill: #FFFFFF;\n",
              "    }\n",
              "  </style>\n",
              "\n",
              "      <script>\n",
              "        const buttonEl =\n",
              "          document.querySelector('#df-823c4737-a696-4ea3-a84f-68639d258649 button.colab-df-convert');\n",
              "        buttonEl.style.display =\n",
              "          google.colab.kernel.accessAllowed ? 'block' : 'none';\n",
              "\n",
              "        async function convertToInteractive(key) {\n",
              "          const element = document.querySelector('#df-823c4737-a696-4ea3-a84f-68639d258649');\n",
              "          const dataTable =\n",
              "            await google.colab.kernel.invokeFunction('convertToInteractive',\n",
              "                                                     [key], {});\n",
              "          if (!dataTable) return;\n",
              "\n",
              "          const docLinkHtml = 'Like what you see? Visit the ' +\n",
              "            '<a target=\"_blank\" href=https://colab.research.google.com/notebooks/data_table.ipynb>data table notebook</a>'\n",
              "            + ' to learn more about interactive tables.';\n",
              "          element.innerHTML = '';\n",
              "          dataTable['output_type'] = 'display_data';\n",
              "          await google.colab.output.renderOutput(dataTable, element);\n",
              "          const docLink = document.createElement('div');\n",
              "          docLink.innerHTML = docLinkHtml;\n",
              "          element.appendChild(docLink);\n",
              "        }\n",
              "      </script>\n",
              "    </div>\n",
              "  </div>\n",
              "  "
            ]
          },
          "metadata": {},
          "execution_count": 34
        }
      ]
    },
    {
      "cell_type": "code",
      "source": [
        "X_data = over_sampled_data['nickname']\n",
        "y_data = over_sampled_data['tier']"
      ],
      "metadata": {
        "id": "HQUsOBQunPeY"
      },
      "execution_count": null,
      "outputs": []
    },
    {
      "cell_type": "markdown",
      "source": [
        "## LSTM으로 티어 예측하기"
      ],
      "metadata": {
        "id": "OpcieqtyTY9i"
      }
    },
    {
      "cell_type": "code",
      "source": [
        "from sklearn.model_selection import train_test_split\n",
        "from tensorflow.keras.preprocessing.text import Tokenizer\n",
        "from tensorflow.keras.preprocessing.sequence import pad_sequences\n",
        "from tensorflow.keras.utils import to_categorical\n",
        "\n",
        "\n",
        "from tensorflow.keras.models import Sequential\n",
        "from tensorflow.keras.layers import Dense, LSTM, GRU, Bidirectional, Embedding\n",
        "from tensorflow.keras.callbacks import EarlyStopping, ModelCheckpoint\n",
        "from tensorflow.keras.models import load_model"
      ],
      "metadata": {
        "id": "GBtRXvdZOfqu"
      },
      "execution_count": null,
      "outputs": []
    },
    {
      "cell_type": "code",
      "source": [
        "vocab_size = 1000\n",
        "max_len = 16"
      ],
      "metadata": {
        "id": "JT-E5Q9ZTiox"
      },
      "execution_count": null,
      "outputs": []
    },
    {
      "cell_type": "markdown",
      "source": [
        "티어의 정수 인코딩"
      ],
      "metadata": {
        "id": "2dLOVaumXBHI"
      }
    },
    {
      "cell_type": "code",
      "source": [
        "y_data = y_data.replace('above_master', 0)\n",
        "y_data = y_data.replace('diamond', 1)\n",
        "y_data = y_data.replace('platinum', 2)\n",
        "y_data = y_data.replace('gold', 3)\n",
        "y_data = y_data.replace('silver', 4)\n",
        "y_data = y_data.replace('bronze', 5)\n",
        "y_data = y_data.replace('iron', 6)"
      ],
      "metadata": {
        "id": "X1-of-LqVN1v"
      },
      "execution_count": null,
      "outputs": []
    },
    {
      "cell_type": "markdown",
      "source": [
        "### 자음 모음 단위 토큰화"
      ],
      "metadata": {
        "id": "pc9zozwg6_KW"
      }
    },
    {
      "cell_type": "code",
      "source": [
        "def word_to_jamo(token):\n",
        "  def to_special_token(jamo):\n",
        "    if not jamo:\n",
        "      return '-'\n",
        "    else:\n",
        "      return jamo\n",
        "\n",
        "  decomposed_token = ''\n",
        "  for char in token:\n",
        "    try:\n",
        "      # char(음절)을 초성, 중성, 종성으로 분리\n",
        "      cho, jung, jong = hgtk.letter.decompose(char)\n",
        "\n",
        "      # 자모가 빈 문자일 경우 특수문자 -로 대체\n",
        "      cho = to_special_token(cho)\n",
        "      jung = to_special_token(jung)\n",
        "      jong = to_special_token(jong)\n",
        "      decomposed_token = decomposed_token + cho + jung + jong\n",
        "\n",
        "    # 만약 char(음절)이 한글이 아닐 경우 자모를 나누지 않고 추가\n",
        "    except Exception as exception:\n",
        "      if type(exception).__name__ == 'NotHangulException':\n",
        "        decomposed_token += char\n",
        "    \n",
        "  # 단어 토큰의 자모 단위 분리 결과를 추가\n",
        "  return decomposed_token"
      ],
      "metadata": {
        "id": "43MbRB3jTLfj"
      },
      "execution_count": null,
      "outputs": []
    },
    {
      "cell_type": "code",
      "source": [
        "def jamo_to_word(jamo_sequence):\n",
        "  tokenized_jamo = []\n",
        "  index = 0\n",
        "  \n",
        "  # 1. 초기 입력\n",
        "  # jamo_sequence = 'ㄴㅏㅁㄷㅗㅇㅅㅐㅇ'\n",
        "\n",
        "  while index < len(jamo_sequence):\n",
        "    # 문자가 한글(정상적인 자모)이 아닐 경우\n",
        "    if not hgtk.checker.is_hangul(jamo_sequence[index]):\n",
        "      tokenized_jamo.append(jamo_sequence[index])\n",
        "      index = index + 1\n",
        "\n",
        "    # 문자가 정상적인 자모라면 초성, 중성, 종성을 하나의 토큰으로 간주.\n",
        "    else:\n",
        "      tokenized_jamo.append(jamo_sequence[index:index + 3])\n",
        "      index = index + 3\n",
        "\n",
        "  # 2. 자모 단위 토큰화 완료\n",
        "  # tokenized_jamo : ['ㄴㅏㅁ', 'ㄷㅗㅇ', 'ㅅㅐㅇ']\n",
        "  \n",
        "  word = ''\n",
        "  try:\n",
        "    for jamo in tokenized_jamo:\n",
        "\n",
        "      # 초성, 중성, 종성의 묶음으로 추정되는 경우\n",
        "      if len(jamo) == 3:\n",
        "        if jamo[2] == \"-\":\n",
        "          # 종성이 존재하지 않는 경우\n",
        "          word = word + hgtk.letter.compose(jamo[0], jamo[1])\n",
        "        else:\n",
        "          # 종성이 존재하는 경우\n",
        "          word = word + hgtk.letter.compose(jamo[0], jamo[1], jamo[2])\n",
        "      # 한글이 아닌 경우\n",
        "      else:\n",
        "        word = word + jamo\n",
        "\n",
        "  # 복원 중(hgtk.letter.compose) 에러 발생 시 초기 입력 리턴.\n",
        "  # 복원이 불가능한 경우 예시) 'ㄴ!ㅁㄷㅗㅇㅅㅐㅇ'\n",
        "  except Exception as exception:  \n",
        "    if type(exception).__name__ == 'NotHangulException':\n",
        "      return jamo_sequence\n",
        "\n",
        "  # 3. 단어로 복원 완료\n",
        "  # word : '남동생'\n",
        "\n",
        "  return word"
      ],
      "metadata": {
        "id": "kWjBbnjITLcy"
      },
      "execution_count": null,
      "outputs": []
    },
    {
      "cell_type": "code",
      "source": [
        "max_len = 16*3"
      ],
      "metadata": {
        "id": "5D_UgyUURk8s"
      },
      "execution_count": null,
      "outputs": []
    },
    {
      "cell_type": "code",
      "source": [
        "characters_data = {}\n",
        "jamorized_X_data = []\n",
        "\n",
        "for X in tqdm(X_data):\n",
        "    # 자음 모음 단위 토큰화\n",
        "    jamo_X = list(word_to_jamo(X))\n",
        "    result = []\n",
        "\n",
        "    for jamo in jamo_X: \n",
        "        result.append(jamo)\n",
        "        if jamo not in characters_data:\n",
        "            characters_data[jamo] = 0 \n",
        "        characters_data[jamo] += 1\n",
        "    jamorized_X_data.append(result) \n",
        "\n",
        "\n",
        "print('단어 집합 :', characters_data)\n",
        "\n",
        "data_vocab_sorted = sorted(characters_data.items(), key = lambda x:x[1], reverse = True)\n",
        "print(data_vocab_sorted)"
      ],
      "metadata": {
        "colab": {
          "base_uri": "https://localhost:8080/"
        },
        "id": "HOk0Gru5TLZF",
        "outputId": "d582e731-4141-49d5-bc72-95a470e26412"
      },
      "execution_count": null,
      "outputs": [
        {
          "output_type": "stream",
          "name": "stderr",
          "text": [
            "100%|██████████| 100443/100443 [00:03<00:00, 26628.69it/s]"
          ]
        },
        {
          "output_type": "stream",
          "name": "stdout",
          "text": [
            "단어 집합 : {'J': 1248, 'U': 1011, 'G': 2250, 'K': 2112, 'l': 10907, 'N': 2276, 'v': 2040, 'i': 12317, 'p': 2906, 'e': 14228, 'r': 8094, '3': 1910, 'T': 2619, ' ': 39555, 'W': 1013, 'a': 15284, 'y': 4373, 'S': 3124, 'M': 2110, 'B': 1521, 'h': 5268, 'x': 1712, 'o': 12218, 'u': 6299, 'ㄴ': 76825, 'ㅑ': 5209, 'ㅇ': 113414, 'ㄸ': 4113, 'ㅗ': 41834, 'ㅂ': 26789, 'ㅓ': 33151, 'ㄹ': 55756, 'ㅔ': 14609, '-': 204437, 'f': 2176, 't': 6072, 'A': 3113, 'k': 4020, 'R': 2129, 'H': 1678, '9': 1669, '4': 1391, '1': 6155, '7': 1416, 'ㅅ': 39245, 'ㅛ': 5176, 'ㄷ': 25643, 'ㅏ': 86638, 'ㅣ': 69638, 'ㅊ': 11921, 'ㄱ': 56871, 'ㅜ': 32570, 'ㅡ': 33006, 'n': 11610, 'ㅘ': 5665, 'ㅋ': 9023, 'ㄲ': 5278, 'ㅁ': 44012, 'D': 2395, 'w': 2888, 'm': 4564, 's': 7771, 'Q': 372, 'Z': 641, 'I': 5167, 'c': 3707, 'ㅐ': 20754, 'ㅎ': 23741, 'ㅍ': 10146, 'ㅌ': 11009, 'ㅖ': 1771, 'ㅈ': 35050, '5': 1334, '2': 3838, 'C': 1823, 'X': 706, 'P': 1838, 'z': 2181, 'b': 2560, '0': 3827, '6': 1049, 'V': 721, 'L': 2160, 'O': 2453, 'g': 4721, 'ㅕ': 15091, 'd': 5228, '8': 1287, 'ㅠ': 4937, 'q': 963, 'j': 1548, 'F': 1158, 'E': 2356, 'ㅟ': 2702, 'ㅉ': 3373, 'ㅝ': 3924, 'ㅙ': 555, 'ㄺ': 405, 'ㅢ': 3348, 'ㅆ': 3662, 'ㅚ': 1886, 'Y': 1024, 'ㅞ': 320, 'ㅄ': 649, 'ㅃ': 3573, 'ㅀ': 217, 'ㄶ': 378, 'ㄼ': 41, 'ㅒ': 75, 'ㄳ': 8, 'ㄻ': 111, 'ㄾ': 17, 'ㄵ': 10, 'ㄿ': 1, 'ª': 1}\n",
            "[('-', 204437), ('ㅇ', 113414), ('ㅏ', 86638), ('ㄴ', 76825), ('ㅣ', 69638), ('ㄱ', 56871), ('ㄹ', 55756), ('ㅁ', 44012), ('ㅗ', 41834), (' ', 39555), ('ㅅ', 39245), ('ㅈ', 35050), ('ㅓ', 33151), ('ㅡ', 33006), ('ㅜ', 32570), ('ㅂ', 26789), ('ㄷ', 25643), ('ㅎ', 23741), ('ㅐ', 20754), ('a', 15284), ('ㅕ', 15091), ('ㅔ', 14609), ('e', 14228), ('i', 12317), ('o', 12218), ('ㅊ', 11921), ('n', 11610), ('ㅌ', 11009), ('l', 10907), ('ㅍ', 10146), ('ㅋ', 9023), ('r', 8094), ('s', 7771), ('u', 6299), ('1', 6155), ('t', 6072), ('ㅘ', 5665), ('ㄲ', 5278), ('h', 5268), ('d', 5228), ('ㅑ', 5209), ('ㅛ', 5176), ('I', 5167), ('ㅠ', 4937), ('g', 4721), ('m', 4564), ('y', 4373), ('ㄸ', 4113), ('k', 4020), ('ㅝ', 3924), ('2', 3838), ('0', 3827), ('c', 3707), ('ㅆ', 3662), ('ㅃ', 3573), ('ㅉ', 3373), ('ㅢ', 3348), ('S', 3124), ('A', 3113), ('p', 2906), ('w', 2888), ('ㅟ', 2702), ('T', 2619), ('b', 2560), ('O', 2453), ('D', 2395), ('E', 2356), ('N', 2276), ('G', 2250), ('z', 2181), ('f', 2176), ('L', 2160), ('R', 2129), ('K', 2112), ('M', 2110), ('v', 2040), ('3', 1910), ('ㅚ', 1886), ('P', 1838), ('C', 1823), ('ㅖ', 1771), ('x', 1712), ('H', 1678), ('9', 1669), ('j', 1548), ('B', 1521), ('7', 1416), ('4', 1391), ('5', 1334), ('8', 1287), ('J', 1248), ('F', 1158), ('6', 1049), ('Y', 1024), ('W', 1013), ('U', 1011), ('q', 963), ('V', 721), ('X', 706), ('ㅄ', 649), ('Z', 641), ('ㅙ', 555), ('ㄺ', 405), ('ㄶ', 378), ('Q', 372), ('ㅞ', 320), ('ㅀ', 217), ('ㄻ', 111), ('ㅒ', 75), ('ㄼ', 41), ('ㄾ', 17), ('ㄵ', 10), ('ㄳ', 8), ('ㄿ', 1), ('ª', 1)]\n"
          ]
        },
        {
          "output_type": "stream",
          "name": "stderr",
          "text": [
            "\n"
          ]
        }
      ]
    },
    {
      "cell_type": "code",
      "source": [
        "data_word_to_index = {}\n",
        "i = 0\n",
        "for (word, frequency) in data_vocab_sorted :\n",
        "    if frequency > 1 : # 빈도수가 작은 단어는 제외.\n",
        "        i = i + 1\n",
        "        data_word_to_index[word] = i\n",
        "\n",
        "print(data_word_to_index)\n",
        "\n",
        "data_word_to_index['OOV'] = len(data_word_to_index) + 1\n",
        "print(data_word_to_index)"
      ],
      "metadata": {
        "colab": {
          "base_uri": "https://localhost:8080/"
        },
        "id": "32fo4xggY6ru",
        "outputId": "c4669987-c4ba-4d59-d8f2-07d3ae00b832"
      },
      "execution_count": null,
      "outputs": [
        {
          "output_type": "stream",
          "name": "stdout",
          "text": [
            "{'-': 1, 'ㅇ': 2, 'ㅏ': 3, 'ㄴ': 4, 'ㅣ': 5, 'ㄱ': 6, 'ㄹ': 7, 'ㅁ': 8, 'ㅗ': 9, ' ': 10, 'ㅅ': 11, 'ㅈ': 12, 'ㅓ': 13, 'ㅡ': 14, 'ㅜ': 15, 'ㅂ': 16, 'ㄷ': 17, 'ㅎ': 18, 'ㅐ': 19, 'a': 20, 'ㅕ': 21, 'ㅔ': 22, 'e': 23, 'i': 24, 'o': 25, 'ㅊ': 26, 'n': 27, 'ㅌ': 28, 'l': 29, 'ㅍ': 30, 'ㅋ': 31, 'r': 32, 's': 33, 'u': 34, '1': 35, 't': 36, 'ㅘ': 37, 'ㄲ': 38, 'h': 39, 'd': 40, 'ㅑ': 41, 'ㅛ': 42, 'I': 43, 'ㅠ': 44, 'g': 45, 'm': 46, 'y': 47, 'ㄸ': 48, 'k': 49, 'ㅝ': 50, '2': 51, '0': 52, 'c': 53, 'ㅆ': 54, 'ㅃ': 55, 'ㅉ': 56, 'ㅢ': 57, 'S': 58, 'A': 59, 'p': 60, 'w': 61, 'ㅟ': 62, 'T': 63, 'b': 64, 'O': 65, 'D': 66, 'E': 67, 'N': 68, 'G': 69, 'z': 70, 'f': 71, 'L': 72, 'R': 73, 'K': 74, 'M': 75, 'v': 76, '3': 77, 'ㅚ': 78, 'P': 79, 'C': 80, 'ㅖ': 81, 'x': 82, 'H': 83, '9': 84, 'j': 85, 'B': 86, '7': 87, '4': 88, '5': 89, '8': 90, 'J': 91, 'F': 92, '6': 93, 'Y': 94, 'W': 95, 'U': 96, 'q': 97, 'V': 98, 'X': 99, 'ㅄ': 100, 'Z': 101, 'ㅙ': 102, 'ㄺ': 103, 'ㄶ': 104, 'Q': 105, 'ㅞ': 106, 'ㅀ': 107, 'ㄻ': 108, 'ㅒ': 109, 'ㄼ': 110, 'ㄾ': 111, 'ㄵ': 112, 'ㄳ': 113}\n",
            "{'-': 1, 'ㅇ': 2, 'ㅏ': 3, 'ㄴ': 4, 'ㅣ': 5, 'ㄱ': 6, 'ㄹ': 7, 'ㅁ': 8, 'ㅗ': 9, ' ': 10, 'ㅅ': 11, 'ㅈ': 12, 'ㅓ': 13, 'ㅡ': 14, 'ㅜ': 15, 'ㅂ': 16, 'ㄷ': 17, 'ㅎ': 18, 'ㅐ': 19, 'a': 20, 'ㅕ': 21, 'ㅔ': 22, 'e': 23, 'i': 24, 'o': 25, 'ㅊ': 26, 'n': 27, 'ㅌ': 28, 'l': 29, 'ㅍ': 30, 'ㅋ': 31, 'r': 32, 's': 33, 'u': 34, '1': 35, 't': 36, 'ㅘ': 37, 'ㄲ': 38, 'h': 39, 'd': 40, 'ㅑ': 41, 'ㅛ': 42, 'I': 43, 'ㅠ': 44, 'g': 45, 'm': 46, 'y': 47, 'ㄸ': 48, 'k': 49, 'ㅝ': 50, '2': 51, '0': 52, 'c': 53, 'ㅆ': 54, 'ㅃ': 55, 'ㅉ': 56, 'ㅢ': 57, 'S': 58, 'A': 59, 'p': 60, 'w': 61, 'ㅟ': 62, 'T': 63, 'b': 64, 'O': 65, 'D': 66, 'E': 67, 'N': 68, 'G': 69, 'z': 70, 'f': 71, 'L': 72, 'R': 73, 'K': 74, 'M': 75, 'v': 76, '3': 77, 'ㅚ': 78, 'P': 79, 'C': 80, 'ㅖ': 81, 'x': 82, 'H': 83, '9': 84, 'j': 85, 'B': 86, '7': 87, '4': 88, '5': 89, '8': 90, 'J': 91, 'F': 92, '6': 93, 'Y': 94, 'W': 95, 'U': 96, 'q': 97, 'V': 98, 'X': 99, 'ㅄ': 100, 'Z': 101, 'ㅙ': 102, 'ㄺ': 103, 'ㄶ': 104, 'Q': 105, 'ㅞ': 106, 'ㅀ': 107, 'ㄻ': 108, 'ㅒ': 109, 'ㄼ': 110, 'ㄾ': 111, 'ㄵ': 112, 'ㄳ': 113, 'OOV': 114}\n"
          ]
        }
      ]
    },
    {
      "cell_type": "code",
      "source": [
        "encoded_X_data = []\n",
        "for jamorized_X in tqdm(jamorized_X_data):\n",
        "    encoded_sentence = []\n",
        "    for jamo in jamorized_X:\n",
        "        try:\n",
        "            # 단어 집합에 있는 단어라면 해당 단어의 정수를 리턴.\n",
        "            encoded_sentence.append(data_word_to_index[jamo])\n",
        "        except KeyError:\n",
        "            # 만약 단어 집합에 없는 단어라면 'OOV'의 정수를 리턴.\n",
        "            encoded_sentence.append(data_word_to_index['OOV'])\n",
        "    encoded_X_data.append(encoded_sentence)"
      ],
      "metadata": {
        "colab": {
          "base_uri": "https://localhost:8080/"
        },
        "id": "dumlHHsBaXiB",
        "outputId": "b588a413-af49-4633-9dca-df8c6baebf5d"
      },
      "execution_count": null,
      "outputs": [
        {
          "output_type": "stream",
          "name": "stderr",
          "text": [
            "100%|██████████| 100443/100443 [00:00<00:00, 183273.37it/s]\n"
          ]
        }
      ]
    },
    {
      "cell_type": "code",
      "source": [
        "encoded_X_data = pad_sequences(encoded_X_data, maxlen=max_len)"
      ],
      "metadata": {
        "id": "u0CIAtQYicDN"
      },
      "execution_count": null,
      "outputs": []
    },
    {
      "cell_type": "code",
      "source": [
        "X_train, X_test, y_train, y_test = train_test_split(encoded_X_data, y_data, test_size=0.33, random_state=815, stratify=y_data)\n",
        "\n",
        "print(f\"전체 data의 개수 : {len(encoded_X_data)}\")\n",
        "print(f\"train data의 개수 : {len(X_train)}\")\n",
        "print(f\"test data의 개수 : {len(X_test)}\")"
      ],
      "metadata": {
        "colab": {
          "base_uri": "https://localhost:8080/"
        },
        "id": "i8kvOEwv812i",
        "outputId": "35e5821d-a29d-4d73-ae93-4c8dae2d52c5"
      },
      "execution_count": null,
      "outputs": [
        {
          "output_type": "stream",
          "name": "stdout",
          "text": [
            "전체 data의 개수 : 100443\n",
            "train data의 개수 : 67296\n",
            "test data의 개수 : 33147\n"
          ]
        }
      ]
    },
    {
      "cell_type": "markdown",
      "source": [
        "#### LSTM ver.1 - *0.21945*"
      ],
      "metadata": {
        "id": "z3M5xcVsjc21"
      }
    },
    {
      "cell_type": "code",
      "source": [
        "embedding_dim = 128\n",
        "hidden_units = 128\n",
        "num_classes = len(set(y_train))\n",
        "\n",
        "model = Sequential()\n",
        "model.add(Embedding(vocab_size, embedding_dim))\n",
        "model.add(LSTM(hidden_units))\n",
        "model.add(Dense(num_classes, activation='softmax'))\n",
        "\n",
        "es = EarlyStopping(monitor='val_loss', mode='min', verbose=1, patience=4)\n",
        "mc = ModelCheckpoint('jamo_best_model_lstm_128.h5', monitor='val_acc', mode='max', verbose=1, save_best_only=True)\n",
        "\n",
        "model.compile(loss=\"sparse_categorical_crossentropy\", optimizer='adam', metrics=['acc'])\n",
        "history = model.fit(X_train, y_train, batch_size=128, epochs=30, \n",
        "                    callbacks=[es, mc],\n",
        "                    validation_data=(X_test, y_test))"
      ],
      "metadata": {
        "colab": {
          "base_uri": "https://localhost:8080/"
        },
        "id": "RpPgeLPXb_Bs",
        "outputId": "3d6c59c8-e629-4634-8428-f9a212d52576"
      },
      "execution_count": null,
      "outputs": [
        {
          "output_type": "stream",
          "name": "stdout",
          "text": [
            "Epoch 1/30\n",
            "525/526 [============================>.] - ETA: 0s - loss: 1.9089 - acc: 0.1927\n",
            "Epoch 1: val_acc improved from -inf to 0.19848, saving model to jamo_best_model_lstm_128.h5\n",
            "526/526 [==============================] - 7s 9ms/step - loss: 1.9088 - acc: 0.1928 - val_loss: 1.9028 - val_acc: 0.1985\n",
            "Epoch 2/30\n",
            "520/526 [============================>.] - ETA: 0s - loss: 1.8847 - acc: 0.2064\n",
            "Epoch 2: val_acc improved from 0.19848 to 0.20620, saving model to jamo_best_model_lstm_128.h5\n",
            "526/526 [==============================] - 4s 8ms/step - loss: 1.8845 - acc: 0.2066 - val_loss: 1.8735 - val_acc: 0.2062\n",
            "Epoch 3/30\n",
            "523/526 [============================>.] - ETA: 0s - loss: 1.8702 - acc: 0.2124\n",
            "Epoch 3: val_acc improved from 0.20620 to 0.21356, saving model to jamo_best_model_lstm_128.h5\n",
            "526/526 [==============================] - 6s 11ms/step - loss: 1.8701 - acc: 0.2123 - val_loss: 1.8686 - val_acc: 0.2136\n",
            "Epoch 4/30\n",
            "522/526 [============================>.] - ETA: 0s - loss: 1.8634 - acc: 0.2186\n",
            "Epoch 4: val_acc improved from 0.21356 to 0.21381, saving model to jamo_best_model_lstm_128.h5\n",
            "526/526 [==============================] - 4s 8ms/step - loss: 1.8634 - acc: 0.2187 - val_loss: 1.8665 - val_acc: 0.2138\n",
            "Epoch 5/30\n",
            "523/526 [============================>.] - ETA: 0s - loss: 1.8576 - acc: 0.2216\n",
            "Epoch 5: val_acc improved from 0.21381 to 0.21755, saving model to jamo_best_model_lstm_128.h5\n",
            "526/526 [==============================] - 4s 8ms/step - loss: 1.8575 - acc: 0.2217 - val_loss: 1.8656 - val_acc: 0.2175\n",
            "Epoch 6/30\n",
            "524/526 [============================>.] - ETA: 0s - loss: 1.8513 - acc: 0.2243\n",
            "Epoch 6: val_acc did not improve from 0.21755\n",
            "526/526 [==============================] - 4s 8ms/step - loss: 1.8514 - acc: 0.2242 - val_loss: 1.8604 - val_acc: 0.2126\n",
            "Epoch 7/30\n",
            "521/526 [============================>.] - ETA: 0s - loss: 1.8460 - acc: 0.2268\n",
            "Epoch 7: val_acc did not improve from 0.21755\n",
            "526/526 [==============================] - 4s 8ms/step - loss: 1.8458 - acc: 0.2270 - val_loss: 1.8587 - val_acc: 0.2173\n",
            "Epoch 8/30\n",
            "519/526 [============================>.] - ETA: 0s - loss: 1.8392 - acc: 0.2320\n",
            "Epoch 8: val_acc improved from 0.21755 to 0.21770, saving model to jamo_best_model_lstm_128.h5\n",
            "526/526 [==============================] - 5s 9ms/step - loss: 1.8395 - acc: 0.2319 - val_loss: 1.8557 - val_acc: 0.2177\n",
            "Epoch 9/30\n",
            "520/526 [============================>.] - ETA: 0s - loss: 1.8319 - acc: 0.2358\n",
            "Epoch 9: val_acc did not improve from 0.21770\n",
            "526/526 [==============================] - 5s 9ms/step - loss: 1.8320 - acc: 0.2356 - val_loss: 1.8564 - val_acc: 0.2164\n",
            "Epoch 10/30\n",
            "526/526 [==============================] - ETA: 0s - loss: 1.8247 - acc: 0.2391\n",
            "Epoch 10: val_acc improved from 0.21770 to 0.21945, saving model to jamo_best_model_lstm_128.h5\n",
            "526/526 [==============================] - 5s 9ms/step - loss: 1.8247 - acc: 0.2391 - val_loss: 1.8564 - val_acc: 0.2194\n",
            "Epoch 11/30\n",
            "523/526 [============================>.] - ETA: 0s - loss: 1.8159 - acc: 0.2461\n",
            "Epoch 11: val_acc did not improve from 0.21945\n",
            "526/526 [==============================] - 4s 8ms/step - loss: 1.8157 - acc: 0.2462 - val_loss: 1.8615 - val_acc: 0.2163\n",
            "Epoch 12/30\n",
            "519/526 [============================>.] - ETA: 0s - loss: 1.8048 - acc: 0.2541\n",
            "Epoch 12: val_acc did not improve from 0.21945\n",
            "526/526 [==============================] - 5s 9ms/step - loss: 1.8052 - acc: 0.2537 - val_loss: 1.8634 - val_acc: 0.2171\n",
            "Epoch 12: early stopping\n"
          ]
        }
      ]
    },
    {
      "cell_type": "markdown",
      "source": [
        "#### LSTM ver.2 - *0.21972*"
      ],
      "metadata": {
        "id": "LnwI_0oFSzB3"
      }
    },
    {
      "cell_type": "code",
      "source": [
        "embedding_dim = 64\n",
        "hidden_units = 64\n",
        "num_classes = len(set(y_train))\n",
        "\n",
        "model = Sequential()\n",
        "model.add(Embedding(vocab_size, embedding_dim))\n",
        "model.add(LSTM(hidden_units))\n",
        "model.add(Dense(num_classes, activation='softmax'))\n",
        "\n",
        "es = EarlyStopping(monitor='val_loss', mode='min', verbose=1, patience=4)\n",
        "mc = ModelCheckpoint('jamo_best_model_lstm_64.h5', monitor='val_acc', mode='max', verbose=1, save_best_only=True)\n",
        "\n",
        "model.compile(loss=\"sparse_categorical_crossentropy\", optimizer='adam', metrics=['acc'])\n",
        "history = model.fit(X_train, y_train, batch_size=64, epochs=30, \n",
        "                    callbacks=[es, mc],\n",
        "                    validation_data=(X_test, y_test))"
      ],
      "metadata": {
        "colab": {
          "base_uri": "https://localhost:8080/"
        },
        "id": "V0oUUkNiStBA",
        "outputId": "0d26282a-9b99-4c44-82b2-e32a10ed460a"
      },
      "execution_count": null,
      "outputs": [
        {
          "output_type": "stream",
          "name": "stdout",
          "text": [
            "Epoch 1/30\n",
            "1051/1052 [============================>.] - ETA: 0s - loss: 1.9101 - acc: 0.1961\n",
            "Epoch 1: val_acc improved from -inf to 0.20062, saving model to jamo_best_model_lstm_64.h5\n",
            "1052/1052 [==============================] - 9s 7ms/step - loss: 1.9101 - acc: 0.1961 - val_loss: 1.8976 - val_acc: 0.2006\n",
            "Epoch 2/30\n",
            "1047/1052 [============================>.] - ETA: 0s - loss: 1.8850 - acc: 0.2086\n",
            "Epoch 2: val_acc improved from 0.20062 to 0.21097, saving model to jamo_best_model_lstm_64.h5\n",
            "1052/1052 [==============================] - 8s 8ms/step - loss: 1.8850 - acc: 0.2087 - val_loss: 1.8768 - val_acc: 0.2110\n",
            "Epoch 3/30\n",
            "1052/1052 [==============================] - ETA: 0s - loss: 1.8708 - acc: 0.2126\n",
            "Epoch 3: val_acc improved from 0.21097 to 0.21335, saving model to jamo_best_model_lstm_64.h5\n",
            "1052/1052 [==============================] - 8s 8ms/step - loss: 1.8708 - acc: 0.2126 - val_loss: 1.8672 - val_acc: 0.2134\n",
            "Epoch 4/30\n",
            "1049/1052 [============================>.] - ETA: 0s - loss: 1.8640 - acc: 0.2150\n",
            "Epoch 4: val_acc improved from 0.21335 to 0.21353, saving model to jamo_best_model_lstm_64.h5\n",
            "1052/1052 [==============================] - 7s 7ms/step - loss: 1.8640 - acc: 0.2151 - val_loss: 1.8663 - val_acc: 0.2135\n",
            "Epoch 5/30\n",
            "1050/1052 [============================>.] - ETA: 0s - loss: 1.8592 - acc: 0.2188\n",
            "Epoch 5: val_acc improved from 0.21353 to 0.21356, saving model to jamo_best_model_lstm_64.h5\n",
            "1052/1052 [==============================] - 7s 7ms/step - loss: 1.8591 - acc: 0.2188 - val_loss: 1.8634 - val_acc: 0.2136\n",
            "Epoch 6/30\n",
            "1049/1052 [============================>.] - ETA: 0s - loss: 1.8537 - acc: 0.2243\n",
            "Epoch 6: val_acc improved from 0.21356 to 0.21640, saving model to jamo_best_model_lstm_64.h5\n",
            "1052/1052 [==============================] - 9s 8ms/step - loss: 1.8536 - acc: 0.2242 - val_loss: 1.8593 - val_acc: 0.2164\n",
            "Epoch 7/30\n",
            "1043/1052 [============================>.] - ETA: 0s - loss: 1.8482 - acc: 0.2274\n",
            "Epoch 7: val_acc did not improve from 0.21640\n",
            "1052/1052 [==============================] - 9s 8ms/step - loss: 1.8482 - acc: 0.2274 - val_loss: 1.8575 - val_acc: 0.2163\n",
            "Epoch 8/30\n",
            "1045/1052 [============================>.] - ETA: 0s - loss: 1.8441 - acc: 0.2288\n",
            "Epoch 8: val_acc improved from 0.21640 to 0.21703, saving model to jamo_best_model_lstm_64.h5\n",
            "1052/1052 [==============================] - 7s 7ms/step - loss: 1.8440 - acc: 0.2289 - val_loss: 1.8563 - val_acc: 0.2170\n",
            "Epoch 9/30\n",
            "1048/1052 [============================>.] - ETA: 0s - loss: 1.8391 - acc: 0.2315\n",
            "Epoch 9: val_acc did not improve from 0.21703\n",
            "1052/1052 [==============================] - 7s 7ms/step - loss: 1.8390 - acc: 0.2315 - val_loss: 1.8551 - val_acc: 0.2160\n",
            "Epoch 10/30\n",
            "1052/1052 [==============================] - ETA: 0s - loss: 1.8343 - acc: 0.2334\n",
            "Epoch 10: val_acc improved from 0.21703 to 0.21737, saving model to jamo_best_model_lstm_64.h5\n",
            "1052/1052 [==============================] - 7s 7ms/step - loss: 1.8343 - acc: 0.2334 - val_loss: 1.8549 - val_acc: 0.2174\n",
            "Epoch 11/30\n",
            "1043/1052 [============================>.] - ETA: 0s - loss: 1.8291 - acc: 0.2378\n",
            "Epoch 11: val_acc improved from 0.21737 to 0.21881, saving model to jamo_best_model_lstm_64.h5\n",
            "1052/1052 [==============================] - 8s 8ms/step - loss: 1.8293 - acc: 0.2376 - val_loss: 1.8562 - val_acc: 0.2188\n",
            "Epoch 12/30\n",
            "1048/1052 [============================>.] - ETA: 0s - loss: 1.8232 - acc: 0.2419\n",
            "Epoch 12: val_acc did not improve from 0.21881\n",
            "1052/1052 [==============================] - 7s 7ms/step - loss: 1.8233 - acc: 0.2419 - val_loss: 1.8566 - val_acc: 0.2188\n",
            "Epoch 13/30\n",
            "1046/1052 [============================>.] - ETA: 0s - loss: 1.8170 - acc: 0.2437\n",
            "Epoch 13: val_acc improved from 0.21881 to 0.21972, saving model to jamo_best_model_lstm_64.h5\n",
            "1052/1052 [==============================] - 7s 7ms/step - loss: 1.8170 - acc: 0.2438 - val_loss: 1.8575 - val_acc: 0.2197\n",
            "Epoch 14/30\n",
            "1044/1052 [============================>.] - ETA: 0s - loss: 1.8097 - acc: 0.2499\n",
            "Epoch 14: val_acc did not improve from 0.21972\n",
            "1052/1052 [==============================] - 9s 8ms/step - loss: 1.8096 - acc: 0.2500 - val_loss: 1.8610 - val_acc: 0.2187\n",
            "Epoch 14: early stopping\n"
          ]
        }
      ]
    },
    {
      "cell_type": "markdown",
      "source": [
        "#### Bi-LSTM ver.1 *0.22147*"
      ],
      "metadata": {
        "id": "6L1_ASplNge7"
      }
    },
    {
      "cell_type": "code",
      "source": [
        "embedding_dim = 128\n",
        "hidden_units = 128\n",
        "num_classes = len(set(y_train))\n",
        "\n",
        "model = Sequential()\n",
        "model.add(Embedding(vocab_size, embedding_dim))\n",
        "model.add(Bidirectional(LSTM(hidden_units)))\n",
        "model.add(Dense(num_classes, activation='softmax'))\n",
        "\n",
        "es = EarlyStopping(monitor='val_loss', mode='min', verbose=1, patience=4)\n",
        "mc = ModelCheckpoint('jamo_best_model_bilstm_128.h5', monitor='val_acc', mode='max', verbose=1, save_best_only=True)\n",
        "\n",
        "model.compile(loss=\"sparse_categorical_crossentropy\", optimizer='adam', metrics=['acc'])\n",
        "history = model.fit(X_train, y_train, batch_size=128, epochs=30, \n",
        "                    callbacks=[es, mc],\n",
        "                    validation_data=(X_test, y_test))"
      ],
      "metadata": {
        "colab": {
          "base_uri": "https://localhost:8080/"
        },
        "id": "rj4QisWENf8c",
        "outputId": "a0482ba6-86c9-4310-ac1e-476f9e849c13"
      },
      "execution_count": null,
      "outputs": [
        {
          "output_type": "stream",
          "name": "stdout",
          "text": [
            "Epoch 1/30\n",
            "525/526 [============================>.] - ETA: 0s - loss: 1.9105 - acc: 0.1904\n",
            "Epoch 1: val_acc improved from -inf to 0.19736, saving model to jamo_best_model_bilstm_128.h5\n",
            "526/526 [==============================] - 10s 14ms/step - loss: 1.9105 - acc: 0.1904 - val_loss: 1.8946 - val_acc: 0.1974\n",
            "Epoch 2/30\n",
            "523/526 [============================>.] - ETA: 0s - loss: 1.8862 - acc: 0.2055\n",
            "Epoch 2: val_acc improved from 0.19736 to 0.20825, saving model to jamo_best_model_bilstm_128.h5\n",
            "526/526 [==============================] - 7s 13ms/step - loss: 1.8861 - acc: 0.2057 - val_loss: 1.8758 - val_acc: 0.2083\n",
            "Epoch 3/30\n",
            "522/526 [============================>.] - ETA: 0s - loss: 1.8705 - acc: 0.2127\n",
            "Epoch 3: val_acc improved from 0.20825 to 0.21390, saving model to jamo_best_model_bilstm_128.h5\n",
            "526/526 [==============================] - 8s 15ms/step - loss: 1.8704 - acc: 0.2127 - val_loss: 1.8709 - val_acc: 0.2139\n",
            "Epoch 4/30\n",
            "525/526 [============================>.] - ETA: 0s - loss: 1.8633 - acc: 0.2174\n",
            "Epoch 4: val_acc improved from 0.21390 to 0.21577, saving model to jamo_best_model_bilstm_128.h5\n",
            "526/526 [==============================] - 7s 13ms/step - loss: 1.8632 - acc: 0.2174 - val_loss: 1.8667 - val_acc: 0.2158\n",
            "Epoch 5/30\n",
            "525/526 [============================>.] - ETA: 0s - loss: 1.8576 - acc: 0.2210\n",
            "Epoch 5: val_acc improved from 0.21577 to 0.21721, saving model to jamo_best_model_bilstm_128.h5\n",
            "526/526 [==============================] - 7s 13ms/step - loss: 1.8575 - acc: 0.2210 - val_loss: 1.8659 - val_acc: 0.2172\n",
            "Epoch 6/30\n",
            "522/526 [============================>.] - ETA: 0s - loss: 1.8520 - acc: 0.2238\n",
            "Epoch 6: val_acc improved from 0.21721 to 0.21987, saving model to jamo_best_model_bilstm_128.h5\n",
            "526/526 [==============================] - 7s 13ms/step - loss: 1.8519 - acc: 0.2237 - val_loss: 1.8574 - val_acc: 0.2199\n",
            "Epoch 7/30\n",
            "525/526 [============================>.] - ETA: 0s - loss: 1.8460 - acc: 0.2271\n",
            "Epoch 7: val_acc did not improve from 0.21987\n",
            "526/526 [==============================] - 7s 13ms/step - loss: 1.8460 - acc: 0.2271 - val_loss: 1.8553 - val_acc: 0.2183\n",
            "Epoch 8/30\n",
            "524/526 [============================>.] - ETA: 0s - loss: 1.8400 - acc: 0.2298\n",
            "Epoch 8: val_acc did not improve from 0.21987\n",
            "526/526 [==============================] - 7s 12ms/step - loss: 1.8400 - acc: 0.2299 - val_loss: 1.8594 - val_acc: 0.2179\n",
            "Epoch 9/30\n",
            "522/526 [============================>.] - ETA: 0s - loss: 1.8337 - acc: 0.2339\n",
            "Epoch 9: val_acc did not improve from 0.21987\n",
            "526/526 [==============================] - 7s 13ms/step - loss: 1.8335 - acc: 0.2341 - val_loss: 1.8557 - val_acc: 0.2176\n",
            "Epoch 10/30\n",
            "526/526 [==============================] - ETA: 0s - loss: 1.8251 - acc: 0.2395\n",
            "Epoch 10: val_acc did not improve from 0.21987\n",
            "526/526 [==============================] - 7s 14ms/step - loss: 1.8251 - acc: 0.2395 - val_loss: 1.8539 - val_acc: 0.2191\n",
            "Epoch 11/30\n",
            "525/526 [============================>.] - ETA: 0s - loss: 1.8175 - acc: 0.2440\n",
            "Epoch 11: val_acc did not improve from 0.21987\n",
            "526/526 [==============================] - 7s 12ms/step - loss: 1.8174 - acc: 0.2440 - val_loss: 1.8564 - val_acc: 0.2164\n",
            "Epoch 12/30\n",
            "524/526 [============================>.] - ETA: 0s - loss: 1.8071 - acc: 0.2495\n",
            "Epoch 12: val_acc did not improve from 0.21987\n",
            "526/526 [==============================] - 7s 12ms/step - loss: 1.8069 - acc: 0.2495 - val_loss: 1.8582 - val_acc: 0.2187\n",
            "Epoch 13/30\n",
            "522/526 [============================>.] - ETA: 0s - loss: 1.7932 - acc: 0.2582\n",
            "Epoch 13: val_acc improved from 0.21987 to 0.22147, saving model to jamo_best_model_bilstm_128.h5\n",
            "526/526 [==============================] - 7s 13ms/step - loss: 1.7931 - acc: 0.2584 - val_loss: 1.8630 - val_acc: 0.2215\n",
            "Epoch 14/30\n",
            "523/526 [============================>.] - ETA: 0s - loss: 1.7784 - acc: 0.2655\n",
            "Epoch 14: val_acc did not improve from 0.22147\n",
            "526/526 [==============================] - 7s 13ms/step - loss: 1.7786 - acc: 0.2654 - val_loss: 1.8673 - val_acc: 0.2189\n",
            "Epoch 14: early stopping\n"
          ]
        }
      ]
    },
    {
      "cell_type": "markdown",
      "source": [
        "#### Bi-LSTM ver.2 *0.22132*"
      ],
      "metadata": {
        "id": "-W9BTYJ0S97x"
      }
    },
    {
      "cell_type": "code",
      "source": [
        "embedding_dim = 64\n",
        "hidden_units = 64\n",
        "num_classes = len(set(y_train))\n",
        "\n",
        "model = Sequential()\n",
        "model.add(Embedding(vocab_size, embedding_dim))\n",
        "model.add(Bidirectional(LSTM(hidden_units)))\n",
        "model.add(Dense(num_classes, activation='softmax'))\n",
        "\n",
        "es = EarlyStopping(monitor='val_loss', mode='min', verbose=1, patience=4)\n",
        "mc = ModelCheckpoint('jamo_best_model_bilstm_64.h5', monitor='val_acc', mode='max', verbose=1, save_best_only=True)\n",
        "\n",
        "model.compile(loss=\"sparse_categorical_crossentropy\", optimizer='adam', metrics=['acc'])\n",
        "history = model.fit(X_train, y_train, batch_size=64, epochs=30, \n",
        "                    callbacks=[es, mc],\n",
        "                    validation_data=(X_test, y_test))"
      ],
      "metadata": {
        "colab": {
          "base_uri": "https://localhost:8080/"
        },
        "id": "AcKll_xfS5zM",
        "outputId": "2bb8d062-3271-44eb-d5d2-aecd66c16c36"
      },
      "execution_count": null,
      "outputs": [
        {
          "output_type": "stream",
          "name": "stdout",
          "text": [
            "Epoch 1/30\n",
            "1049/1052 [============================>.] - ETA: 0s - loss: 1.9105 - acc: 0.1917\n",
            "Epoch 1: val_acc improved from -inf to 0.20020, saving model to jamo_best_model_bilstm_64.h5\n",
            "1052/1052 [==============================] - 15s 11ms/step - loss: 1.9105 - acc: 0.1917 - val_loss: 1.8948 - val_acc: 0.2002\n",
            "Epoch 2/30\n",
            "1050/1052 [============================>.] - ETA: 0s - loss: 1.8845 - acc: 0.2053\n",
            "Epoch 2: val_acc improved from 0.20020 to 0.21157, saving model to jamo_best_model_bilstm_64.h5\n",
            "1052/1052 [==============================] - 11s 10ms/step - loss: 1.8846 - acc: 0.2052 - val_loss: 1.8779 - val_acc: 0.2116\n",
            "Epoch 3/30\n",
            "1052/1052 [==============================] - ETA: 0s - loss: 1.8714 - acc: 0.2147\n",
            "Epoch 3: val_acc did not improve from 0.21157\n",
            "1052/1052 [==============================] - 11s 10ms/step - loss: 1.8714 - acc: 0.2147 - val_loss: 1.8988 - val_acc: 0.2013\n",
            "Epoch 4/30\n",
            "1046/1052 [============================>.] - ETA: 0s - loss: 1.8650 - acc: 0.2160\n",
            "Epoch 4: val_acc improved from 0.21157 to 0.21601, saving model to jamo_best_model_bilstm_64.h5\n",
            "1052/1052 [==============================] - 11s 10ms/step - loss: 1.8653 - acc: 0.2157 - val_loss: 1.8654 - val_acc: 0.2160\n",
            "Epoch 5/30\n",
            "1050/1052 [============================>.] - ETA: 0s - loss: 1.8601 - acc: 0.2182\n",
            "Epoch 5: val_acc improved from 0.21601 to 0.21643, saving model to jamo_best_model_bilstm_64.h5\n",
            "1052/1052 [==============================] - 11s 11ms/step - loss: 1.8601 - acc: 0.2182 - val_loss: 1.8619 - val_acc: 0.2164\n",
            "Epoch 6/30\n",
            "1051/1052 [============================>.] - ETA: 0s - loss: 1.8553 - acc: 0.2233\n",
            "Epoch 6: val_acc improved from 0.21643 to 0.21679, saving model to jamo_best_model_bilstm_64.h5\n",
            "1052/1052 [==============================] - 11s 10ms/step - loss: 1.8552 - acc: 0.2233 - val_loss: 1.8611 - val_acc: 0.2168\n",
            "Epoch 7/30\n",
            "1050/1052 [============================>.] - ETA: 0s - loss: 1.8502 - acc: 0.2243\n",
            "Epoch 7: val_acc improved from 0.21679 to 0.22017, saving model to jamo_best_model_bilstm_64.h5\n",
            "1052/1052 [==============================] - 11s 10ms/step - loss: 1.8501 - acc: 0.2243 - val_loss: 1.8581 - val_acc: 0.2202\n",
            "Epoch 8/30\n",
            "1049/1052 [============================>.] - ETA: 0s - loss: 1.8464 - acc: 0.2259\n",
            "Epoch 8: val_acc did not improve from 0.22017\n",
            "1052/1052 [==============================] - 11s 10ms/step - loss: 1.8464 - acc: 0.2258 - val_loss: 1.8555 - val_acc: 0.2165\n",
            "Epoch 9/30\n",
            "1052/1052 [==============================] - ETA: 0s - loss: 1.8406 - acc: 0.2304\n",
            "Epoch 9: val_acc did not improve from 0.22017\n",
            "1052/1052 [==============================] - 11s 10ms/step - loss: 1.8406 - acc: 0.2304 - val_loss: 1.8537 - val_acc: 0.2194\n",
            "Epoch 10/30\n",
            "1049/1052 [============================>.] - ETA: 0s - loss: 1.8357 - acc: 0.2323\n",
            "Epoch 10: val_acc did not improve from 0.22017\n",
            "1052/1052 [==============================] - 11s 10ms/step - loss: 1.8357 - acc: 0.2323 - val_loss: 1.8534 - val_acc: 0.2193\n",
            "Epoch 11/30\n",
            "1050/1052 [============================>.] - ETA: 0s - loss: 1.8306 - acc: 0.2350\n",
            "Epoch 11: val_acc did not improve from 0.22017\n",
            "1052/1052 [==============================] - 11s 10ms/step - loss: 1.8305 - acc: 0.2350 - val_loss: 1.8542 - val_acc: 0.2185\n",
            "Epoch 12/30\n",
            "1051/1052 [============================>.] - ETA: 0s - loss: 1.8243 - acc: 0.2405\n",
            "Epoch 12: val_acc did not improve from 0.22017\n",
            "1052/1052 [==============================] - 11s 10ms/step - loss: 1.8243 - acc: 0.2405 - val_loss: 1.8544 - val_acc: 0.2201\n",
            "Epoch 13/30\n",
            "1051/1052 [============================>.] - ETA: 0s - loss: 1.8175 - acc: 0.2454\n",
            "Epoch 13: val_acc improved from 0.22017 to 0.22132, saving model to jamo_best_model_bilstm_64.h5\n",
            "1052/1052 [==============================] - 11s 10ms/step - loss: 1.8174 - acc: 0.2453 - val_loss: 1.8555 - val_acc: 0.2213\n",
            "Epoch 14/30\n",
            "1052/1052 [==============================] - ETA: 0s - loss: 1.8105 - acc: 0.2486\n",
            "Epoch 14: val_acc did not improve from 0.22132\n",
            "1052/1052 [==============================] - 11s 10ms/step - loss: 1.8105 - acc: 0.2486 - val_loss: 1.8562 - val_acc: 0.2197\n",
            "Epoch 14: early stopping\n"
          ]
        }
      ]
    },
    {
      "cell_type": "markdown",
      "source": [
        "#### GRU ver.1 *0.22105*"
      ],
      "metadata": {
        "id": "SJ2duS_GkJrZ"
      }
    },
    {
      "cell_type": "code",
      "source": [
        "embedding_dim = 128\n",
        "hidden_units = 128\n",
        "num_classes = len(set(y_train))\n",
        "\n",
        "model = Sequential()\n",
        "model.add(Embedding(vocab_size, embedding_dim))\n",
        "model.add(GRU(hidden_units))\n",
        "model.add(Dense(num_classes, activation='softmax'))\n",
        "\n",
        "es = EarlyStopping(monitor='val_loss', mode='min', verbose=1, patience=4)\n",
        "mc = ModelCheckpoint('jamo_best_model_gru_128.h5', monitor='val_acc', mode='max', verbose=1, save_best_only=True)\n",
        "\n",
        "model.compile(loss=\"sparse_categorical_crossentropy\", optimizer='adam', metrics=['acc'])\n",
        "history = model.fit(X_train, y_train, batch_size=128, epochs=30, \n",
        "                    callbacks=[es, mc],\n",
        "                    validation_data=(X_test, y_test))"
      ],
      "metadata": {
        "colab": {
          "base_uri": "https://localhost:8080/"
        },
        "id": "_8Vax7TIkJYr",
        "outputId": "6020fb1f-e62f-4306-dc0a-2a09b36e1cb1"
      },
      "execution_count": null,
      "outputs": [
        {
          "output_type": "stream",
          "name": "stdout",
          "text": [
            "Epoch 1/30\n",
            "519/526 [============================>.] - ETA: 0s - loss: 1.9092 - acc: 0.1932\n",
            "Epoch 1: val_acc improved from -inf to 0.19830, saving model to jamo_best_model_gru_128.h5\n",
            "526/526 [==============================] - 6s 9ms/step - loss: 1.9090 - acc: 0.1932 - val_loss: 1.8964 - val_acc: 0.1983\n",
            "Epoch 2/30\n",
            "521/526 [============================>.] - ETA: 0s - loss: 1.8863 - acc: 0.2056\n",
            "Epoch 2: val_acc improved from 0.19830 to 0.21106, saving model to jamo_best_model_gru_128.h5\n",
            "526/526 [==============================] - 4s 8ms/step - loss: 1.8864 - acc: 0.2054 - val_loss: 1.8777 - val_acc: 0.2111\n",
            "Epoch 3/30\n",
            "521/526 [============================>.] - ETA: 0s - loss: 1.8740 - acc: 0.2111\n",
            "Epoch 3: val_acc did not improve from 0.21106\n",
            "526/526 [==============================] - 4s 8ms/step - loss: 1.8738 - acc: 0.2111 - val_loss: 1.8721 - val_acc: 0.2105\n",
            "Epoch 4/30\n",
            "523/526 [============================>.] - ETA: 0s - loss: 1.8659 - acc: 0.2156\n",
            "Epoch 4: val_acc did not improve from 0.21106\n",
            "526/526 [==============================] - 4s 8ms/step - loss: 1.8657 - acc: 0.2157 - val_loss: 1.8691 - val_acc: 0.2053\n",
            "Epoch 5/30\n",
            "519/526 [============================>.] - ETA: 0s - loss: 1.8580 - acc: 0.2212\n",
            "Epoch 5: val_acc improved from 0.21106 to 0.21477, saving model to jamo_best_model_gru_128.h5\n",
            "526/526 [==============================] - 4s 8ms/step - loss: 1.8581 - acc: 0.2210 - val_loss: 1.8659 - val_acc: 0.2148\n",
            "Epoch 6/30\n",
            "526/526 [==============================] - ETA: 0s - loss: 1.8509 - acc: 0.2240\n",
            "Epoch 6: val_acc improved from 0.21477 to 0.21586, saving model to jamo_best_model_gru_128.h5\n",
            "526/526 [==============================] - 5s 9ms/step - loss: 1.8509 - acc: 0.2240 - val_loss: 1.8619 - val_acc: 0.2159\n",
            "Epoch 7/30\n",
            "523/526 [============================>.] - ETA: 0s - loss: 1.8458 - acc: 0.2276\n",
            "Epoch 7: val_acc improved from 0.21586 to 0.21634, saving model to jamo_best_model_gru_128.h5\n",
            "526/526 [==============================] - 5s 9ms/step - loss: 1.8458 - acc: 0.2277 - val_loss: 1.8576 - val_acc: 0.2163\n",
            "Epoch 8/30\n",
            "522/526 [============================>.] - ETA: 0s - loss: 1.8395 - acc: 0.2311\n",
            "Epoch 8: val_acc improved from 0.21634 to 0.21860, saving model to jamo_best_model_gru_128.h5\n",
            "526/526 [==============================] - 4s 8ms/step - loss: 1.8396 - acc: 0.2310 - val_loss: 1.8597 - val_acc: 0.2186\n",
            "Epoch 9/30\n",
            "524/526 [============================>.] - ETA: 0s - loss: 1.8326 - acc: 0.2359\n",
            "Epoch 9: val_acc improved from 0.21860 to 0.22080, saving model to jamo_best_model_gru_128.h5\n",
            "526/526 [==============================] - 4s 8ms/step - loss: 1.8326 - acc: 0.2360 - val_loss: 1.8578 - val_acc: 0.2208\n",
            "Epoch 10/30\n",
            "521/526 [============================>.] - ETA: 0s - loss: 1.8242 - acc: 0.2411\n",
            "Epoch 10: val_acc improved from 0.22080 to 0.22105, saving model to jamo_best_model_gru_128.h5\n",
            "526/526 [==============================] - 4s 8ms/step - loss: 1.8242 - acc: 0.2412 - val_loss: 1.8581 - val_acc: 0.2210\n",
            "Epoch 11/30\n",
            "525/526 [============================>.] - ETA: 0s - loss: 1.8151 - acc: 0.2451\n",
            "Epoch 11: val_acc did not improve from 0.22105\n",
            "526/526 [==============================] - 4s 8ms/step - loss: 1.8151 - acc: 0.2450 - val_loss: 1.8578 - val_acc: 0.2188\n",
            "Epoch 11: early stopping\n"
          ]
        }
      ]
    },
    {
      "cell_type": "markdown",
      "source": [
        "#### GRU ver.2 *0.21993*"
      ],
      "metadata": {
        "id": "ioq-O89OTGvU"
      }
    },
    {
      "cell_type": "code",
      "source": [
        "embedding_dim = 64\n",
        "hidden_units = 64\n",
        "num_classes = len(set(y_train))\n",
        "\n",
        "model = Sequential()\n",
        "model.add(Embedding(vocab_size, embedding_dim))\n",
        "model.add(GRU(hidden_units))\n",
        "model.add(Dense(num_classes, activation='softmax'))\n",
        "\n",
        "es = EarlyStopping(monitor='val_loss', mode='min', verbose=1, patience=4)\n",
        "mc = ModelCheckpoint('jamo_best_model_gru_64.h5', monitor='val_acc', mode='max', verbose=1, save_best_only=True)\n",
        "\n",
        "model.compile(loss=\"sparse_categorical_crossentropy\", optimizer='adam', metrics=['acc'])\n",
        "history = model.fit(X_train, y_train, batch_size=64, epochs=30, \n",
        "                    callbacks=[es, mc],\n",
        "                    validation_data=(X_test, y_test))"
      ],
      "metadata": {
        "colab": {
          "base_uri": "https://localhost:8080/"
        },
        "id": "W6K8t7-lTJLC",
        "outputId": "1f24e8a5-c7e1-409b-dd38-8f47e6b18cf5"
      },
      "execution_count": null,
      "outputs": [
        {
          "output_type": "stream",
          "name": "stdout",
          "text": [
            "Epoch 1/30\n",
            "1044/1052 [============================>.] - ETA: 0s - loss: 1.9079 - acc: 0.1918\n",
            "Epoch 1: val_acc improved from -inf to 0.19941, saving model to jamo_best_model_gru_64.h5\n",
            "1052/1052 [==============================] - 10s 8ms/step - loss: 1.9080 - acc: 0.1919 - val_loss: 1.8963 - val_acc: 0.1994\n",
            "Epoch 2/30\n",
            "1045/1052 [============================>.] - ETA: 0s - loss: 1.8848 - acc: 0.2065\n",
            "Epoch 2: val_acc improved from 0.19941 to 0.20331, saving model to jamo_best_model_gru_64.h5\n",
            "1052/1052 [==============================] - 7s 7ms/step - loss: 1.8849 - acc: 0.2065 - val_loss: 1.8838 - val_acc: 0.2033\n",
            "Epoch 3/30\n",
            "1052/1052 [==============================] - ETA: 0s - loss: 1.8747 - acc: 0.2121\n",
            "Epoch 3: val_acc improved from 0.20331 to 0.20973, saving model to jamo_best_model_gru_64.h5\n",
            "1052/1052 [==============================] - 7s 7ms/step - loss: 1.8747 - acc: 0.2121 - val_loss: 1.8750 - val_acc: 0.2097\n",
            "Epoch 4/30\n",
            "1051/1052 [============================>.] - ETA: 0s - loss: 1.8680 - acc: 0.2157\n",
            "Epoch 4: val_acc improved from 0.20973 to 0.21094, saving model to jamo_best_model_gru_64.h5\n",
            "1052/1052 [==============================] - 7s 7ms/step - loss: 1.8680 - acc: 0.2157 - val_loss: 1.8681 - val_acc: 0.2109\n",
            "Epoch 5/30\n",
            "1052/1052 [==============================] - ETA: 0s - loss: 1.8610 - acc: 0.2192\n",
            "Epoch 5: val_acc improved from 0.21094 to 0.21658, saving model to jamo_best_model_gru_64.h5\n",
            "1052/1052 [==============================] - 8s 8ms/step - loss: 1.8610 - acc: 0.2192 - val_loss: 1.8639 - val_acc: 0.2166\n",
            "Epoch 6/30\n",
            "1050/1052 [============================>.] - ETA: 0s - loss: 1.8541 - acc: 0.2237\n",
            "Epoch 6: val_acc improved from 0.21658 to 0.21740, saving model to jamo_best_model_gru_64.h5\n",
            "1052/1052 [==============================] - 7s 7ms/step - loss: 1.8542 - acc: 0.2237 - val_loss: 1.8601 - val_acc: 0.2174\n",
            "Epoch 7/30\n",
            "1043/1052 [============================>.] - ETA: 0s - loss: 1.8486 - acc: 0.2255\n",
            "Epoch 7: val_acc did not improve from 0.21740\n",
            "1052/1052 [==============================] - 8s 7ms/step - loss: 1.8485 - acc: 0.2256 - val_loss: 1.8587 - val_acc: 0.2148\n",
            "Epoch 8/30\n",
            "1044/1052 [============================>.] - ETA: 0s - loss: 1.8443 - acc: 0.2284\n",
            "Epoch 8: val_acc did not improve from 0.21740\n",
            "1052/1052 [==============================] - 8s 8ms/step - loss: 1.8443 - acc: 0.2285 - val_loss: 1.8558 - val_acc: 0.2170\n",
            "Epoch 9/30\n",
            "1050/1052 [============================>.] - ETA: 0s - loss: 1.8395 - acc: 0.2320\n",
            "Epoch 9: val_acc improved from 0.21740 to 0.21794, saving model to jamo_best_model_gru_64.h5\n",
            "1052/1052 [==============================] - 8s 8ms/step - loss: 1.8396 - acc: 0.2319 - val_loss: 1.8570 - val_acc: 0.2179\n",
            "Epoch 10/30\n",
            "1049/1052 [============================>.] - ETA: 0s - loss: 1.8348 - acc: 0.2356\n",
            "Epoch 10: val_acc improved from 0.21794 to 0.21993, saving model to jamo_best_model_gru_64.h5\n",
            "1052/1052 [==============================] - 7s 7ms/step - loss: 1.8349 - acc: 0.2355 - val_loss: 1.8593 - val_acc: 0.2199\n",
            "Epoch 11/30\n",
            "1043/1052 [============================>.] - ETA: 0s - loss: 1.8303 - acc: 0.2388\n",
            "Epoch 11: val_acc did not improve from 0.21993\n",
            "1052/1052 [==============================] - 7s 7ms/step - loss: 1.8303 - acc: 0.2387 - val_loss: 1.8571 - val_acc: 0.2183\n",
            "Epoch 12/30\n",
            "1044/1052 [============================>.] - ETA: 0s - loss: 1.8241 - acc: 0.2414\n",
            "Epoch 12: val_acc did not improve from 0.21993\n",
            "1052/1052 [==============================] - 7s 7ms/step - loss: 1.8243 - acc: 0.2411 - val_loss: 1.8603 - val_acc: 0.2191\n",
            "Epoch 12: early stopping\n"
          ]
        }
      ]
    },
    {
      "cell_type": "markdown",
      "source": [
        "#### Bi-GRU ver.1 *0.22192*"
      ],
      "metadata": {
        "id": "rVdQOj2nOGfu"
      }
    },
    {
      "cell_type": "code",
      "source": [
        "embedding_dim = 128\n",
        "hidden_units = 128\n",
        "num_classes = len(set(y_train))\n",
        "\n",
        "model = Sequential()\n",
        "model.add(Embedding(vocab_size, embedding_dim))\n",
        "model.add(Bidirectional(GRU(hidden_units)))\n",
        "model.add(Dense(num_classes, activation='softmax'))\n",
        "\n",
        "es = EarlyStopping(monitor='val_loss', mode='min', verbose=1, patience=4)\n",
        "mc = ModelCheckpoint('jamo_best_model_biGRU_128.h5', monitor='val_acc', mode='max', verbose=1, save_best_only=True)\n",
        "\n",
        "model.compile(loss=\"sparse_categorical_crossentropy\", optimizer='adam', metrics=['acc'])\n",
        "history = model.fit(X_train, y_train, batch_size=128, epochs=30, \n",
        "                    callbacks=[es, mc],\n",
        "                    validation_data=(X_test, y_test))"
      ],
      "metadata": {
        "colab": {
          "base_uri": "https://localhost:8080/"
        },
        "id": "QYk9j6wAOMm2",
        "outputId": "7482c0ce-e4a4-4647-f1c5-0582d0d6959f"
      },
      "execution_count": null,
      "outputs": [
        {
          "output_type": "stream",
          "name": "stdout",
          "text": [
            "Epoch 1/30\n",
            "525/526 [============================>.] - ETA: 0s - loss: 1.9104 - acc: 0.1918\n",
            "Epoch 1: val_acc improved from -inf to 0.20116, saving model to jamo_best_model_biGRU_128.h5\n",
            "526/526 [==============================] - 10s 14ms/step - loss: 1.9104 - acc: 0.1918 - val_loss: 1.8930 - val_acc: 0.2012\n",
            "Epoch 2/30\n",
            "524/526 [============================>.] - ETA: 0s - loss: 1.8874 - acc: 0.2070\n",
            "Epoch 2: val_acc improved from 0.20116 to 0.20714, saving model to jamo_best_model_biGRU_128.h5\n",
            "526/526 [==============================] - 6s 12ms/step - loss: 1.8874 - acc: 0.2069 - val_loss: 1.8828 - val_acc: 0.2071\n",
            "Epoch 3/30\n",
            "522/526 [============================>.] - ETA: 0s - loss: 1.8731 - acc: 0.2111\n",
            "Epoch 3: val_acc improved from 0.20714 to 0.20925, saving model to jamo_best_model_biGRU_128.h5\n",
            "526/526 [==============================] - 6s 12ms/step - loss: 1.8734 - acc: 0.2109 - val_loss: 1.8748 - val_acc: 0.2092\n",
            "Epoch 4/30\n",
            "523/526 [============================>.] - ETA: 0s - loss: 1.8649 - acc: 0.2161\n",
            "Epoch 4: val_acc improved from 0.20925 to 0.20988, saving model to jamo_best_model_biGRU_128.h5\n",
            "526/526 [==============================] - 6s 12ms/step - loss: 1.8649 - acc: 0.2160 - val_loss: 1.8669 - val_acc: 0.2099\n",
            "Epoch 5/30\n",
            "523/526 [============================>.] - ETA: 0s - loss: 1.8571 - acc: 0.2210\n",
            "Epoch 5: val_acc improved from 0.20988 to 0.21151, saving model to jamo_best_model_biGRU_128.h5\n",
            "526/526 [==============================] - 7s 14ms/step - loss: 1.8572 - acc: 0.2211 - val_loss: 1.8623 - val_acc: 0.2115\n",
            "Epoch 6/30\n",
            "525/526 [============================>.] - ETA: 0s - loss: 1.8502 - acc: 0.2259\n",
            "Epoch 6: val_acc improved from 0.21151 to 0.21586, saving model to jamo_best_model_biGRU_128.h5\n",
            "526/526 [==============================] - 7s 12ms/step - loss: 1.8503 - acc: 0.2258 - val_loss: 1.8564 - val_acc: 0.2159\n",
            "Epoch 7/30\n",
            "521/526 [============================>.] - ETA: 0s - loss: 1.8439 - acc: 0.2293\n",
            "Epoch 7: val_acc improved from 0.21586 to 0.21604, saving model to jamo_best_model_biGRU_128.h5\n",
            "526/526 [==============================] - 6s 12ms/step - loss: 1.8437 - acc: 0.2293 - val_loss: 1.8571 - val_acc: 0.2160\n",
            "Epoch 8/30\n",
            "524/526 [============================>.] - ETA: 0s - loss: 1.8375 - acc: 0.2324\n",
            "Epoch 8: val_acc improved from 0.21604 to 0.21797, saving model to jamo_best_model_biGRU_128.h5\n",
            "526/526 [==============================] - 6s 12ms/step - loss: 1.8375 - acc: 0.2325 - val_loss: 1.8558 - val_acc: 0.2180\n",
            "Epoch 9/30\n",
            "521/526 [============================>.] - ETA: 0s - loss: 1.8307 - acc: 0.2370\n",
            "Epoch 9: val_acc improved from 0.21797 to 0.21815, saving model to jamo_best_model_biGRU_128.h5\n",
            "526/526 [==============================] - 6s 12ms/step - loss: 1.8307 - acc: 0.2369 - val_loss: 1.8548 - val_acc: 0.2181\n",
            "Epoch 10/30\n",
            "522/526 [============================>.] - ETA: 0s - loss: 1.8229 - acc: 0.2420\n",
            "Epoch 10: val_acc improved from 0.21815 to 0.22192, saving model to jamo_best_model_biGRU_128.h5\n",
            "526/526 [==============================] - 6s 12ms/step - loss: 1.8231 - acc: 0.2419 - val_loss: 1.8557 - val_acc: 0.2219\n",
            "Epoch 11/30\n",
            "523/526 [============================>.] - ETA: 0s - loss: 1.8135 - acc: 0.2482\n",
            "Epoch 11: val_acc did not improve from 0.22192\n",
            "526/526 [==============================] - 6s 12ms/step - loss: 1.8136 - acc: 0.2481 - val_loss: 1.8586 - val_acc: 0.2166\n",
            "Epoch 12/30\n",
            "521/526 [============================>.] - ETA: 0s - loss: 1.8023 - acc: 0.2561\n",
            "Epoch 12: val_acc did not improve from 0.22192\n",
            "526/526 [==============================] - 6s 12ms/step - loss: 1.8024 - acc: 0.2559 - val_loss: 1.8589 - val_acc: 0.2178\n",
            "Epoch 13/30\n",
            "524/526 [============================>.] - ETA: 0s - loss: 1.7888 - acc: 0.2618\n",
            "Epoch 13: val_acc did not improve from 0.22192\n",
            "526/526 [==============================] - 6s 12ms/step - loss: 1.7887 - acc: 0.2619 - val_loss: 1.8603 - val_acc: 0.2204\n",
            "Epoch 13: early stopping\n"
          ]
        }
      ]
    },
    {
      "cell_type": "markdown",
      "source": [
        "#### Bi-GRU ver.2 *0.22210*"
      ],
      "metadata": {
        "id": "Qo8NbajFTPmk"
      }
    },
    {
      "cell_type": "code",
      "source": [
        "embedding_dim = 64\n",
        "hidden_units = 64\n",
        "num_classes = len(set(y_train))\n",
        "\n",
        "model = Sequential()\n",
        "model.add(Embedding(vocab_size, embedding_dim))\n",
        "model.add(Bidirectional(GRU(hidden_units)))\n",
        "model.add(Dense(num_classes, activation='softmax'))\n",
        "\n",
        "es = EarlyStopping(monitor='val_loss', mode='min', verbose=1, patience=4)\n",
        "mc = ModelCheckpoint('jamo_best_model_biGRU_64.h5', monitor='val_acc', mode='max', verbose=1, save_best_only=True)\n",
        "\n",
        "model.compile(loss=\"sparse_categorical_crossentropy\", optimizer='adam', metrics=['acc'])\n",
        "history = model.fit(X_train, y_train, batch_size=64, epochs=30, \n",
        "                    callbacks=[es, mc],\n",
        "                    validation_data=(X_test, y_test))"
      ],
      "metadata": {
        "colab": {
          "base_uri": "https://localhost:8080/"
        },
        "id": "ht8-tYtwTRwC",
        "outputId": "77e00809-7f19-4822-818e-65a3d99a788f"
      },
      "execution_count": null,
      "outputs": [
        {
          "output_type": "stream",
          "name": "stdout",
          "text": [
            "Epoch 1/30\n",
            "1047/1052 [============================>.] - ETA: 0s - loss: 1.9096 - acc: 0.1914\n",
            "Epoch 1: val_acc improved from -inf to 0.19613, saving model to jamo_best_model_biGRU_64.h5\n",
            "1052/1052 [==============================] - 14s 10ms/step - loss: 1.9094 - acc: 0.1915 - val_loss: 1.8979 - val_acc: 0.1961\n",
            "Epoch 2/30\n",
            "1050/1052 [============================>.] - ETA: 0s - loss: 1.8865 - acc: 0.2045\n",
            "Epoch 2: val_acc improved from 0.19613 to 0.20629, saving model to jamo_best_model_biGRU_64.h5\n",
            "1052/1052 [==============================] - 10s 9ms/step - loss: 1.8865 - acc: 0.2044 - val_loss: 1.8790 - val_acc: 0.2063\n",
            "Epoch 3/30\n",
            "1052/1052 [==============================] - ETA: 0s - loss: 1.8740 - acc: 0.2111\n",
            "Epoch 3: val_acc improved from 0.20629 to 0.21260, saving model to jamo_best_model_biGRU_64.h5\n",
            "1052/1052 [==============================] - 10s 9ms/step - loss: 1.8740 - acc: 0.2111 - val_loss: 1.8729 - val_acc: 0.2126\n",
            "Epoch 4/30\n",
            "1051/1052 [============================>.] - ETA: 0s - loss: 1.8668 - acc: 0.2158\n",
            "Epoch 4: val_acc improved from 0.21260 to 0.21549, saving model to jamo_best_model_biGRU_64.h5\n",
            "1052/1052 [==============================] - 10s 10ms/step - loss: 1.8668 - acc: 0.2157 - val_loss: 1.8659 - val_acc: 0.2155\n",
            "Epoch 5/30\n",
            "1048/1052 [============================>.] - ETA: 0s - loss: 1.8608 - acc: 0.2209\n",
            "Epoch 5: val_acc did not improve from 0.21549\n",
            "1052/1052 [==============================] - 10s 9ms/step - loss: 1.8607 - acc: 0.2209 - val_loss: 1.8644 - val_acc: 0.2153\n",
            "Epoch 6/30\n",
            "1047/1052 [============================>.] - ETA: 0s - loss: 1.8549 - acc: 0.2220\n",
            "Epoch 6: val_acc did not improve from 0.21549\n",
            "1052/1052 [==============================] - 10s 10ms/step - loss: 1.8550 - acc: 0.2220 - val_loss: 1.8643 - val_acc: 0.2146\n",
            "Epoch 7/30\n",
            "1051/1052 [============================>.] - ETA: 0s - loss: 1.8501 - acc: 0.2253\n",
            "Epoch 7: val_acc improved from 0.21549 to 0.21619, saving model to jamo_best_model_biGRU_64.h5\n",
            "1052/1052 [==============================] - 11s 10ms/step - loss: 1.8501 - acc: 0.2252 - val_loss: 1.8595 - val_acc: 0.2162\n",
            "Epoch 8/30\n",
            "1047/1052 [============================>.] - ETA: 0s - loss: 1.8458 - acc: 0.2287\n",
            "Epoch 8: val_acc improved from 0.21619 to 0.21887, saving model to jamo_best_model_biGRU_64.h5\n",
            "1052/1052 [==============================] - 10s 10ms/step - loss: 1.8458 - acc: 0.2286 - val_loss: 1.8570 - val_acc: 0.2189\n",
            "Epoch 9/30\n",
            "1051/1052 [============================>.] - ETA: 0s - loss: 1.8408 - acc: 0.2308\n",
            "Epoch 9: val_acc did not improve from 0.21887\n",
            "1052/1052 [==============================] - 10s 9ms/step - loss: 1.8409 - acc: 0.2308 - val_loss: 1.8578 - val_acc: 0.2166\n",
            "Epoch 10/30\n",
            "1052/1052 [==============================] - ETA: 0s - loss: 1.8359 - acc: 0.2334\n",
            "Epoch 10: val_acc did not improve from 0.21887\n",
            "1052/1052 [==============================] - 10s 9ms/step - loss: 1.8359 - acc: 0.2334 - val_loss: 1.8578 - val_acc: 0.2187\n",
            "Epoch 11/30\n",
            "1052/1052 [==============================] - ETA: 0s - loss: 1.8296 - acc: 0.2366\n",
            "Epoch 11: val_acc improved from 0.21887 to 0.22171, saving model to jamo_best_model_biGRU_64.h5\n",
            "1052/1052 [==============================] - 10s 9ms/step - loss: 1.8296 - acc: 0.2366 - val_loss: 1.8540 - val_acc: 0.2217\n",
            "Epoch 12/30\n",
            "1052/1052 [==============================] - ETA: 0s - loss: 1.8241 - acc: 0.2407\n",
            "Epoch 12: val_acc did not improve from 0.22171\n",
            "1052/1052 [==============================] - 10s 10ms/step - loss: 1.8241 - acc: 0.2407 - val_loss: 1.8587 - val_acc: 0.2178\n",
            "Epoch 13/30\n",
            "1051/1052 [============================>.] - ETA: 0s - loss: 1.8174 - acc: 0.2437\n",
            "Epoch 13: val_acc did not improve from 0.22171\n",
            "1052/1052 [==============================] - 10s 10ms/step - loss: 1.8173 - acc: 0.2438 - val_loss: 1.8594 - val_acc: 0.2186\n",
            "Epoch 14/30\n",
            "1049/1052 [============================>.] - ETA: 0s - loss: 1.8107 - acc: 0.2466\n",
            "Epoch 14: val_acc did not improve from 0.22171\n",
            "1052/1052 [==============================] - 10s 9ms/step - loss: 1.8106 - acc: 0.2467 - val_loss: 1.8599 - val_acc: 0.2208\n",
            "Epoch 15/30\n",
            "1052/1052 [==============================] - ETA: 0s - loss: 1.8033 - acc: 0.2521\n",
            "Epoch 15: val_acc improved from 0.22171 to 0.22210, saving model to jamo_best_model_biGRU_64.h5\n",
            "1052/1052 [==============================] - 10s 10ms/step - loss: 1.8033 - acc: 0.2521 - val_loss: 1.8574 - val_acc: 0.2221\n",
            "Epoch 15: early stopping\n"
          ]
        }
      ]
    },
    {
      "cell_type": "markdown",
      "source": [
        "### 모델 predict"
      ],
      "metadata": {
        "id": "ys0VTZl8siVk"
      }
    },
    {
      "cell_type": "markdown",
      "source": [
        "가장 성능이 좋은 model을 `load` 한다."
      ],
      "metadata": {
        "id": "3WtCswPWQg_2"
      }
    },
    {
      "cell_type": "code",
      "source": [
        "model = load_model('jamo_best_model_biGRU_64.h5')"
      ],
      "metadata": {
        "id": "ro0d1Kh1UTNN"
      },
      "execution_count": null,
      "outputs": []
    },
    {
      "cell_type": "code",
      "source": [
        "# data_word_to_index = {'-': 1, 'ㅇ': 2, 'ㅏ': 3, 'ㄴ': 4, 'ㅣ': 5, 'ㄱ': 6, 'ㄹ': 7, 'ㅁ': 8, 'ㅗ': 9, ' ': 10, 'ㅅ': 11, 'ㅈ': 12, 'ㅓ': 13, 'ㅡ': 14, 'ㅜ': 15, 'ㅂ': 16, 'ㄷ': 17, 'ㅎ': 18, 'ㅐ': 19, 'a': 20, 'ㅕ': 21, 'ㅔ': 22, 'e': 23, 'i': 24, 'o': 25, 'ㅊ': 26, 'n': 27, 'ㅌ': 28, 'l': 29, 'ㅍ': 30, 'ㅋ': 31, 'r': 32, 's': 33, 'u': 34, '1': 35, 't': 36, 'ㅘ': 37, 'ㄲ': 38, 'h': 39, 'd': 40, 'ㅑ': 41, 'ㅛ': 42, 'I': 43, 'ㅠ': 44, 'g': 45, 'm': 46, 'y': 47, 'ㄸ': 48, 'k': 49, 'ㅝ': 50, '2': 51, '0': 52, 'c': 53, 'ㅆ': 54, 'ㅃ': 55, 'ㅉ': 56, 'ㅢ': 57, 'S': 58, 'A': 59, 'p': 60, 'w': 61, 'ㅟ': 62, 'T': 63, 'b': 64, 'O': 65, 'D': 66, 'E': 67, 'N': 68, 'G': 69, 'z': 70, 'f': 71, 'L': 72, 'R': 73, 'K': 74, 'M': 75, 'v': 76, '3': 77, 'ㅚ': 78, 'P': 79, 'C': 80, 'ㅖ': 81, 'x': 82, 'H': 83, '9': 84, 'j': 85, 'B': 86, '7': 87, '4': 88, '5': 89, '8': 90, 'J': 91, 'F': 92, '6': 93, 'Y': 94, 'W': 95, 'U': 96, 'q': 97, 'V': 98, 'X': 99, 'ㅄ': 100, 'Z': 101, 'ㅙ': 102, 'ㄺ': 103, 'ㄶ': 104, 'Q': 105, 'ㅞ': 106, 'ㅀ': 107, 'ㄻ': 108, 'ㅒ': 109, 'ㄼ': 110, 'ㄾ': 111, 'ㄵ': 112, 'ㄳ': 113, 'OOV': 114}"
      ],
      "metadata": {
        "id": "mWsQZPZ3YUwD"
      },
      "execution_count": null,
      "outputs": []
    },
    {
      "cell_type": "code",
      "source": [
        "def tier_predict(nickname):\n",
        "    jamo_nickname = word_to_jamo(nickname)\n",
        "    encoded_nickname = []\n",
        "    for jamo in jamo_nickname:\n",
        "        try:\n",
        "            # 단어 집합에 있는 단어라면 해당 단어의 정수를 리턴.\n",
        "            encoded_nickname.append(data_word_to_index[jamo])\n",
        "        except KeyError:\n",
        "            # 만약 단어 집합에 없는 단어라면 'OOV'의 정수를 리턴.\n",
        "            encoded_nickname.append(data_word_to_index['OOV'])\n",
        "    padded_nickname = pad_sequences([encoded_nickname], maxlen=16)\n",
        "    \n",
        "    tier_index = np.argmax(model.predict(padded_nickname))\n",
        "    tier_confidence = np.max(model.predict(padded_nickname))\n",
        "    tier_list = ['마스터 이상', '다이아몬드', '플래티넘', '골드', '실버', '브론즈', '아이언']\n",
        "\n",
        "    return tier_list[tier_index], tier_confidence"
      ],
      "metadata": {
        "id": "Yey9j2pD7lN4"
      },
      "execution_count": null,
      "outputs": []
    },
    {
      "cell_type": "code",
      "source": [
        "tier_predict('KT way')"
      ],
      "metadata": {
        "colab": {
          "base_uri": "https://localhost:8080/"
        },
        "id": "BAzU91sf7d7s",
        "outputId": "53557c98-daf8-4f86-f33b-6eac2ec5792e"
      },
      "execution_count": null,
      "outputs": [
        {
          "output_type": "execute_result",
          "data": {
            "text/plain": [
              "('마스터 이상', 0.25377932)"
            ]
          },
          "metadata": {},
          "execution_count": 11
        }
      ]
    },
    {
      "cell_type": "code",
      "source": [
        "tier_predict('플래티넘 문지기')"
      ],
      "metadata": {
        "colab": {
          "base_uri": "https://localhost:8080/"
        },
        "id": "h4GuPInkYq2P",
        "outputId": "482fc713-4d69-40d3-dc50-2f0249e75ff2"
      },
      "execution_count": null,
      "outputs": [
        {
          "output_type": "execute_result",
          "data": {
            "text/plain": [
              "('플래티넘', 0.21506898)"
            ]
          },
          "metadata": {},
          "execution_count": 31
        }
      ]
    },
    {
      "cell_type": "code",
      "source": [
        "tier_predict('아몬드가 죽으면')"
      ],
      "metadata": {
        "colab": {
          "base_uri": "https://localhost:8080/"
        },
        "id": "PBTKWyUXYsYo",
        "outputId": "dcfe227a-be0a-4117-e4cc-803cfd538b30"
      },
      "execution_count": null,
      "outputs": [
        {
          "output_type": "execute_result",
          "data": {
            "text/plain": [
              "('다이아몬드', 0.28879693)"
            ]
          },
          "metadata": {},
          "execution_count": 22
        }
      ]
    },
    {
      "cell_type": "code",
      "source": [
        "tier_predict('아이언맨')"
      ],
      "metadata": {
        "colab": {
          "base_uri": "https://localhost:8080/"
        },
        "id": "x1pIAp4XY1_6",
        "outputId": "c84225fe-350c-4d8f-a725-cb6aeb19fe26"
      },
      "execution_count": null,
      "outputs": [
        {
          "output_type": "execute_result",
          "data": {
            "text/plain": [
              "('아이언', 0.18356498)"
            ]
          },
          "metadata": {},
          "execution_count": 17
        }
      ]
    },
    {
      "cell_type": "code",
      "source": [
        "tier_predict('정보통신기술협회')"
      ],
      "metadata": {
        "colab": {
          "base_uri": "https://localhost:8080/"
        },
        "id": "8vixo5oNYC54",
        "outputId": "4b43c823-3395-4921-ac52-7f582279d39f"
      },
      "execution_count": null,
      "outputs": [
        {
          "output_type": "execute_result",
          "data": {
            "text/plain": [
              "('플래티넘', 0.18466833)"
            ]
          },
          "metadata": {},
          "execution_count": 12
        }
      ]
    },
    {
      "cell_type": "code",
      "source": [
        ""
      ],
      "metadata": {
        "id": "D84c0LcRZH0z"
      },
      "execution_count": null,
      "outputs": []
    }
  ]
}